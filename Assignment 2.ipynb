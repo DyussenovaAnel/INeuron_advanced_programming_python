{
 "cells": [
  {
   "cell_type": "markdown",
   "id": "d9218c20",
   "metadata": {},
   "source": [
    "1. Write a function that takes a positive integer num and calculates how many\n",
    "dots exist in a pentagonal shape around the center dot on the Nth iteration.\n",
    "In the image below you can see the first iteration is only a single dot. On the\n",
    "second, there are 6 dots. On the third, there are 16 dots, and on the fourth\n",
    "there are 31 dots."
   ]
  },
  {
   "cell_type": "code",
   "execution_count": 9,
   "id": "2e7a7cab",
   "metadata": {},
   "outputs": [
    {
     "data": {
      "text/plain": [
       "141"
      ]
     },
     "execution_count": 9,
     "metadata": {},
     "output_type": "execute_result"
    }
   ],
   "source": [
    "import math\n",
    "def pentagonal(num):\n",
    "    return sum(list(range(0, num)))*5 +1\n",
    "\n",
    "pentagonal(8)"
   ]
  },
  {
   "cell_type": "markdown",
   "id": "a1d4397e",
   "metadata": {},
   "source": [
    "2. Make a function that encrypts a given input with these steps:\n",
    "Input: \"apple\"\n",
    "Step 1: Reverse the input: \"elppa\"\n",
    "Step 2: Replace all vowels using the following chart:"
   ]
  },
  {
   "cell_type": "code",
   "execution_count": 15,
   "id": "9169dafd",
   "metadata": {},
   "outputs": [
    {
     "data": {
      "text/plain": [
       "'0n0n0baca'"
      ]
     },
     "execution_count": 15,
     "metadata": {},
     "output_type": "execute_result"
    }
   ],
   "source": [
    "def encrypts(word):\n",
    "    d = {\n",
    "        \"a\": \"0\",\n",
    "        \"e\": \"1\",\n",
    "        \"i\": \"2\",\n",
    "        \"o\": \"2\",\n",
    "        \"u\": \"3\"\n",
    "    }\n",
    "    word = word[::-1]\n",
    "    for key in d.keys():\n",
    "        word = word.lower().replace(key, d[key])\n",
    "    word = word + \"aca\"\n",
    "    return word\n",
    "\n",
    "encrypts(\"banana\")"
   ]
  },
  {
   "cell_type": "markdown",
   "id": "d0dbc409",
   "metadata": {},
   "source": [
    "3. Given the month and year as numbers, return whether that month contains\n",
    "a Friday 13th.(i.e You can check Python's datetime module)\n",
    "Examples\n",
    "has_friday_13(3, 2020) ➞ True"
   ]
  },
  {
   "cell_type": "code",
   "execution_count": 19,
   "id": "f916e103",
   "metadata": {},
   "outputs": [
    {
     "data": {
      "text/plain": [
       "True"
      ]
     },
     "execution_count": 19,
     "metadata": {},
     "output_type": "execute_result"
    }
   ],
   "source": [
    "import datetime\n",
    "def has_friday_13(m, y):\n",
    "    ans = datetime.date(y, m, 13)\n",
    "    return ans.weekday()==4\n",
    "\n",
    "has_friday_13(3, 2020)"
   ]
  },
  {
   "cell_type": "markdown",
   "id": "987c332d",
   "metadata": {},
   "source": [
    "4. Write a regular expression that will help us count how many bad cookies\n",
    "are produced every day. You must use RegEx negative lookbehind."
   ]
  },
  {
   "cell_type": "code",
   "execution_count": 23,
   "id": "6575cc0b",
   "metadata": {},
   "outputs": [
    {
     "data": {
      "text/plain": [
       "2"
      ]
     },
     "execution_count": 23,
     "metadata": {},
     "output_type": "execute_result"
    }
   ],
   "source": [
    "import re\n",
    "def bad_cookies(arr):  \n",
    "    return len(re.findall(\"bad\", \",\".join(arr)))\n",
    "\n",
    "lst = [\"bad cookie\", \"good cookie\", \"bad cookie\", \"good cookie\", \"good cookie\"]\n",
    "bad_cookies(lst)"
   ]
  },
  {
   "cell_type": "markdown",
   "id": "25cc488e",
   "metadata": {},
   "source": [
    "5. Given a list of words in the singular form, return a set of those words in the\n",
    "plural form if they appear more than once in the list.\n",
    "Examples\n",
    "pluralize([\"cow\", \"pig\", \"cow\", \"cow\"]) ➞ { \"cows\", \"pig\" }"
   ]
  },
  {
   "cell_type": "code",
   "execution_count": 24,
   "id": "989a8374",
   "metadata": {},
   "outputs": [
    {
     "data": {
      "text/plain": [
       "{'cows', 'pig'}"
      ]
     },
     "execution_count": 24,
     "metadata": {},
     "output_type": "execute_result"
    }
   ],
   "source": [
    "from collections import Counter\n",
    "def pluralize(arr):\n",
    "    c = Counter(arr)\n",
    "    res = set()\n",
    "    for k, ele in c.items():\n",
    "        if ele>1:\n",
    "            res.add(k+\"s\")\n",
    "        if ele==1:\n",
    "            res.add(k)\n",
    "    return res\n",
    "\n",
    "pluralize([\"cow\", \"pig\", \"cow\", \"cow\"])"
   ]
  },
  {
   "cell_type": "code",
   "execution_count": null,
   "id": "59110df8",
   "metadata": {},
   "outputs": [],
   "source": []
  }
 ],
 "metadata": {
  "kernelspec": {
   "display_name": "Python 3 (ipykernel)",
   "language": "python",
   "name": "python3"
  },
  "language_info": {
   "codemirror_mode": {
    "name": "ipython",
    "version": 3
   },
   "file_extension": ".py",
   "mimetype": "text/x-python",
   "name": "python",
   "nbconvert_exporter": "python",
   "pygments_lexer": "ipython3",
   "version": "3.9.12"
  }
 },
 "nbformat": 4,
 "nbformat_minor": 5
}

{
 "cells": [
  {
   "cell_type": "markdown",
   "id": "edede1d4",
   "metadata": {},
   "source": [
    "1. Given a sentence, return the number of words which have the same first\n",
    "and last letter.\n",
    "Examples\n",
    "count_same_ends(\"Pop! goes the balloon\") ➞ 1"
   ]
  },
  {
   "cell_type": "code",
   "execution_count": 8,
   "id": "add0ecb8",
   "metadata": {},
   "outputs": [
    {
     "data": {
      "text/plain": [
       "1"
      ]
     },
     "execution_count": 8,
     "metadata": {},
     "output_type": "execute_result"
    }
   ],
   "source": [
    "import re\n",
    "def count_same_ends(txt):\n",
    "    txt = re.sub(r'[^\\w\\s]','',txt)\n",
    "    arr = txt.lower().split(\" \")\n",
    "    count=0\n",
    "    for a in arr:\n",
    "        \n",
    "        if a[0]==a[-1] and len(a)>1:\n",
    "            count+=1\n",
    "    return count\n",
    "\n",
    "count_same_ends(\"No I am not in a gang.\")"
   ]
  },
  {
   "cell_type": "markdown",
   "id": "66886935",
   "metadata": {},
   "source": [
    "2. The Atbash cipher is an encryption method in which each letter of a word is\n",
    "replaced with its \"mirror\" letter in the alphabet: A &lt;=&gt; Z; B &lt;=&gt; Y; C &lt;=&gt; X;\n",
    "etc.\n",
    "Create a function that takes a string and applies the Atbash cipher to it.\n",
    "Examples\n",
    "atbash(\"apple\") ➞ \"zkkov\""
   ]
  },
  {
   "cell_type": "code",
   "execution_count": 26,
   "id": "0713ba73",
   "metadata": {},
   "outputs": [
    {
     "data": {
      "text/plain": [
       "'zkkov'"
      ]
     },
     "execution_count": 26,
     "metadata": {},
     "output_type": "execute_result"
    }
   ],
   "source": [
    "def atbash(word):\n",
    "    arr = list(word.lower())\n",
    "    res = \"\"\n",
    "    for a in arr:\n",
    "        res += chr(26 + 97 - (ord(a)-96))\n",
    "    return res\n",
    "\n",
    "atbash(\"apple\")"
   ]
  },
  {
   "cell_type": "markdown",
   "id": "1a0001c2",
   "metadata": {},
   "source": [
    "3. Create a class Employee that will take a full name as argument, as well as\n",
    "a set of none, one or more keywords. Each instance should have a name and\n",
    "a lastname attributes plus one more attribute for each of the keywords, if any.\n",
    "Examples\n",
    "john = Employee(\"John Doe\")\n",
    "mary = Employee(\"Mary Major\", salary=120000)\n",
    "richard = Employee(\"Richard Roe\", salary=110000, height=178)\n",
    "giancarlo = Employee(\"Giancarlo Rossi\", salary=115000, height=182,\n",
    "nationality=\"Italian\")"
   ]
  },
  {
   "cell_type": "code",
   "execution_count": 37,
   "id": "9489c6c4",
   "metadata": {},
   "outputs": [],
   "source": [
    "class Employee:\n",
    "    def __init__(self, name, **kwargs):\n",
    "        self.name  = name\n",
    "        self.__dict__.update(kwargs)\n",
    "        \n",
    "john = Employee(\"John Doe\")\n",
    "mary = Employee(\"Mary Major\", salary=120000)\n",
    "richard = Employee(\"Richard Roe\", salary=110000, height=178)\n",
    "giancarlo = Employee(\"Giancarlo Rossi\", salary=115000, height=182, nationality=\"Italian\")"
   ]
  },
  {
   "cell_type": "markdown",
   "id": "d7e6aece",
   "metadata": {},
   "source": [
    "4. Create a function that determines whether each seat can &quot;see&quot; the front-\n",
    "stage. A number can &quot;see&quot; the front-stage if it is strictly greater than the\n",
    "number before it.\n",
    "\n",
    "can_see_stage([\n",
    "[1, 2, 3],\n",
    "[4, 5, 6],\n",
    "[7, 8, 9]\n",
    "])"
   ]
  },
  {
   "cell_type": "code",
   "execution_count": 9,
   "id": "796a1bad",
   "metadata": {},
   "outputs": [
    {
     "data": {
      "text/plain": [
       "False"
      ]
     },
     "execution_count": 9,
     "metadata": {},
     "output_type": "execute_result"
    }
   ],
   "source": [
    "def can_see_stage(arr):\n",
    "    for i in range(1, len(arr[0])):\n",
    "        for j in range(0, len(arr)):\n",
    "            if arr[i][j] < arr[i-1][j]:\n",
    "                return False \n",
    "    return True\n",
    "            \n",
    "can_see_stage([[1, 6, 3], [4, 5, 6], [7, 8, 9]])"
   ]
  },
  {
   "cell_type": "markdown",
   "id": "87a15f04",
   "metadata": {},
   "source": [
    "5. Create a Pizza class with the attributes order_number and ingredients\n",
    "(which is given as a list). Only the ingredients will be given as input.\n",
    "You should also make it so that its possible to choose a ready made pizza\n",
    "flavour rather than typing out the ingredients manually! As well as creating\n",
    "this Pizza class, hard-code the following pizza flavours.\n",
    "Name Ingredients\n",
    "hawaiian ham, pineapple\n",
    "meat_festival beef, meatball, bacon\n",
    "garden_feast spinach, olives, mushroom\n",
    "Examples\n",
    "p1 = Pizza([\"bacon\", \"parmesan\", \"ham\"]) # order 1\n",
    "p2 = Pizza.garden_feast() # order 2\n",
    "p1.ingredients ➞ [\"bacon\", \"parmesan\", \"ham\"]\n"
   ]
  },
  {
   "cell_type": "code",
   "execution_count": 29,
   "id": "3f89bd95",
   "metadata": {},
   "outputs": [
    {
     "name": "stdout",
     "output_type": "stream",
     "text": [
      "['bacon', 'parmesan', 'ham']\n",
      "['olives', 'mushroom', 'spinach']\n",
      "['beef', 'meatball', 'bacon']\n",
      "['ham', 'pineapple']\n"
     ]
    }
   ],
   "source": [
    "class Pizza:\n",
    "    def __init__(self, ingredients):\n",
    "        self.ingredients = ingredients\n",
    "        \n",
    "    @classmethod\n",
    "    def garden_feast(cls):\n",
    "        return cls([\"olives\", \"mushroom\", \"spinach\"])\n",
    "    \n",
    "    @classmethod   \n",
    "    def meat_festival(cls):\n",
    "        return cls([\"beef\", \"meatball\", \"bacon\"])\n",
    "    \n",
    "    @classmethod\n",
    "    def hawaiian(cls):\n",
    "        return cls([\"ham\", \"pineapple\"])\n",
    "        \n",
    "        \n",
    "p1 = Pizza([\"bacon\", \"parmesan\", \"ham\"])\n",
    "print(p1.ingredients)\n",
    "p2 = Pizza.garden_feast()\n",
    "p3 = Pizza.meat_festival()\n",
    "p4 = Pizza.hawaiian()\n",
    "print(p2.ingredients)\n",
    "print(p3.ingredients)\n",
    "print(p4.ingredients)"
   ]
  },
  {
   "cell_type": "code",
   "execution_count": null,
   "id": "f6c5fa1a",
   "metadata": {},
   "outputs": [],
   "source": []
  }
 ],
 "metadata": {
  "kernelspec": {
   "display_name": "Python 3 (ipykernel)",
   "language": "python",
   "name": "python3"
  },
  "language_info": {
   "codemirror_mode": {
    "name": "ipython",
    "version": 3
   },
   "file_extension": ".py",
   "mimetype": "text/x-python",
   "name": "python",
   "nbconvert_exporter": "python",
   "pygments_lexer": "ipython3",
   "version": "3.9.12"
  }
 },
 "nbformat": 4,
 "nbformat_minor": 5
}

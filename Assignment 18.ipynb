{
 "cells": [
  {
   "cell_type": "markdown",
   "id": "b7c141d2",
   "metadata": {},
   "source": [
    "1. A robot has been given a list of movement instructions. Each instruction is\n",
    "either left, right, up or down, followed by a distance to move. The robot starts\n",
    "at [0, 0]. You want to calculate where the robot will end up and return its final\n",
    "position as a list.\n",
    "To illustrate, if the robot is given the following instructions:\n",
    "[\"right 10\", \"up 50\", \"left 30\", \"down 10\"]\n",
    "It will end up 20 left and 40 up from where it started, so we return [-20, 40].\n",
    "Examples\n",
    "track_robot([\"right 10\", \"up 50\", \"left 30\", \"down 10\"]) ➞ [-20, 40]\n"
   ]
  },
  {
   "cell_type": "code",
   "execution_count": 2,
   "id": "eab8699f",
   "metadata": {},
   "outputs": [
    {
     "data": {
      "text/plain": [
       "[-20, 40]"
      ]
     },
     "execution_count": 2,
     "metadata": {},
     "output_type": "execute_result"
    }
   ],
   "source": [
    "def track_robot(arr):\n",
    "    d = {}\n",
    "    for a in arr:\n",
    "        temp = a.split(\" \")\n",
    "        d[temp[0]] = temp[1]\n",
    "    \n",
    "    x = int(d[\"right\"]) - int(d[\"left\"])\n",
    "    y = int(d[\"up\"]) - int(d[\"down\"])\n",
    "    return [x, y]\n",
    "\n",
    "track_robot([\"right 10\", \"up 50\", \"left 30\", \"down 10\"])"
   ]
  },
  {
   "cell_type": "markdown",
   "id": "ff6318fc",
   "metadata": {},
   "source": [
    "2. Write a function that will return the longest word in a sentence. In cases\n",
    "where more than one word is found, return the first one.\n",
    "Examples\n",
    "find_longest(\"A thing of beauty is a joy forever.\") ➞ \"forever\""
   ]
  },
  {
   "cell_type": "code",
   "execution_count": 6,
   "id": "388a54ca",
   "metadata": {},
   "outputs": [
    {
     "data": {
      "text/plain": [
       "'forever'"
      ]
     },
     "execution_count": 6,
     "metadata": {},
     "output_type": "execute_result"
    }
   ],
   "source": [
    "import re\n",
    "def find_longest(txt):\n",
    "    txt = re.sub(r'[^\\w\\s]','',txt)\n",
    "    arr = txt.split(\" \")\n",
    "    d = {a:len(a) for a in arr}\n",
    "    maxx = max(d.values())\n",
    "    for k, v in d.items():\n",
    "        if v == maxx:\n",
    "            return k\n",
    "        \n",
    "find_longest(\"A thing of beauty is a joy forever.\") "
   ]
  },
  {
   "cell_type": "markdown",
   "id": "f3b01be4",
   "metadata": {},
   "source": [
    "3. Create a function to check if a candidate is qualified in an imaginary coding\n",
    "interview of an imaginary tech startup.\n",
    "The criteria for a candidate to be qualified in the coding interview is:\n",
    "1. The candidate should have complete all the questions.\n",
    "2. The maximum time given to complete the interview is 120 minutes.\n",
    "3. The maximum time given for very easy questions is 5 minutes each.\n",
    "4. The maximum time given for easy questions is 10 minutes each.\n",
    "5. The maximum time given for medium questions is 15 minutes each.\n",
    "6. The maximum time given for hard questions is 20 minutes each.\n",
    "\n",
    "If all the above conditions are satisfied, return \"qualified\", else return\n",
    "\"disqualified\".\n",
    "You will be given a list of time taken by a candidate to solve a particular\n",
    "question and the total time taken by the candidate to complete the interview.\n",
    "Given a list , in a true condition will always be in the format [very easy, very\n",
    "easy, easy, easy, medium, medium, hard, hard].\n",
    "The maximum time to complete the interview includes a buffer time of 20\n",
    "minutes.\n",
    "Examples\n",
    "interview([5, 5, 10, 10, 15, 15, 20, 20], 120) ➞ \"qualified\""
   ]
  },
  {
   "cell_type": "code",
   "execution_count": 15,
   "id": "68bff71f",
   "metadata": {},
   "outputs": [
    {
     "data": {
      "text/plain": [
       "'disqualified'"
      ]
     },
     "execution_count": 15,
     "metadata": {},
     "output_type": "execute_result"
    }
   ],
   "source": [
    "def interview(arr, over_all):\n",
    "    if over_all > 120 or len(arr)!=8:\n",
    "        return \"disqualified\"\n",
    "    \n",
    "    max_limits = [5, 5, 10, 10, 15, 15, 20, 20]\n",
    "    \n",
    "    for i in range(0, len(arr)):\n",
    "        if arr[i] > max_limits[i]:\n",
    "            return \"disqualified\"\n",
    "        \n",
    "    return \"qualified\"\n",
    "\n",
    "interview([5, 5, 10, 10, 15, 15, 20, 20], 130)"
   ]
  },
  {
   "cell_type": "markdown",
   "id": "fe72073f",
   "metadata": {},
   "source": [
    "4. Write a function that divides a list into chunks of size n, where n is the\n",
    "length of each chunk.\n",
    "Examples\n",
    "chunkify([2, 3, 4, 5], 2) ➞ [[2, 3], [4, 5]]\n",
    "chunkify([2, 3, 4, 5, 6], 2) ➞ [[2, 3], [4, 5], [6]]"
   ]
  },
  {
   "cell_type": "code",
   "execution_count": 24,
   "id": "44867a56",
   "metadata": {},
   "outputs": [
    {
     "data": {
      "text/plain": [
       "[[2, 3, 4, 5, 6, 7]]"
      ]
     },
     "execution_count": 24,
     "metadata": {},
     "output_type": "execute_result"
    }
   ],
   "source": [
    "def chunkify(arr, chunk):\n",
    "    res = [arr[i:i+chunk] for i in range(0, len(arr), chunk)]\n",
    "    return res\n",
    "    \n",
    "# chunkify([2, 3, 4, 5, 6, 7], 3) \n",
    "# chunkify([2, 3, 4, 5, 6, 7], 1) \n",
    "chunkify([2, 3, 4, 5, 6, 7], 7)"
   ]
  },
  {
   "cell_type": "markdown",
   "id": "2da2ab9c",
   "metadata": {},
   "source": [
    "5. You are given a list of strings consisting of grocery items, with prices in\n",
    "parentheses. Return a list of prices in float format.\n",
    "\n",
    "Examples\n",
    "get_prices([\"salad ($4.99)\"]) ➞ [4.99]\n",
    "get_prices([\n",
    "\"artichokes ($1.99)\",\n",
    "\"rotiserrie chicken ($5.99)\",\n",
    "\"gum ($0.75)\"\n",
    "])\n",
    "➞ [1.99, 5.99, 0.75]"
   ]
  },
  {
   "cell_type": "code",
   "execution_count": 51,
   "id": "31d113ae",
   "metadata": {},
   "outputs": [
    {
     "data": {
      "text/plain": [
       "['1.99', '5.99', '0.75']"
      ]
     },
     "execution_count": 51,
     "metadata": {},
     "output_type": "execute_result"
    }
   ],
   "source": [
    "import re\n",
    "def get_prices(arr):\n",
    "    res = []\n",
    "    for a in arr:\n",
    "        res.append(re.findall(\"\\$(.+)\\)\", a)[0])\n",
    "    return res \n",
    "\n",
    "get_prices([\n",
    "\"artichokes ($1.99)\",\n",
    "\"rotiserrie chicken ($5.99)\",\n",
    "\"gum ($0.75)\"\n",
    "])"
   ]
  },
  {
   "cell_type": "code",
   "execution_count": null,
   "id": "19089998",
   "metadata": {},
   "outputs": [],
   "source": []
  }
 ],
 "metadata": {
  "kernelspec": {
   "display_name": "Python 3 (ipykernel)",
   "language": "python",
   "name": "python3"
  },
  "language_info": {
   "codemirror_mode": {
    "name": "ipython",
    "version": 3
   },
   "file_extension": ".py",
   "mimetype": "text/x-python",
   "name": "python",
   "nbconvert_exporter": "python",
   "pygments_lexer": "ipython3",
   "version": "3.9.12"
  }
 },
 "nbformat": 4,
 "nbformat_minor": 5
}

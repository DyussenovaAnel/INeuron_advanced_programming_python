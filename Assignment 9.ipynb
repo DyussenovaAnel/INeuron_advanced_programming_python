{
 "cells": [
  {
   "cell_type": "markdown",
   "id": "45735dc4",
   "metadata": {},
   "source": [
    "1. YouTube offers different playback speed options for users. This allows\n",
    "users to increase or decrease the speed of the video content. Given the\n",
    "actual duration and playback speed of the video, calculate the playback\n",
    "duration of the video.\n",
    "Examples\n",
    "playback_duration(\"00:30:00\", 2)"
   ]
  },
  {
   "cell_type": "code",
   "execution_count": 27,
   "id": "e113ca6e",
   "metadata": {},
   "outputs": [
    {
     "data": {
      "text/plain": [
       "'0:53:20'"
      ]
     },
     "execution_count": 27,
     "metadata": {},
     "output_type": "execute_result"
    }
   ],
   "source": [
    "def playback_duration(time, speed):\n",
    "    time_arr = time.split(\":\")\n",
    "    seconds = int(time_arr[0])*60*60 + int(time_arr[1])*60 + int(time_arr[2])\n",
    "    time_w_s = seconds/speed\n",
    "    hours = time_w_s//3600\n",
    "    time_w_s = (time_w_s/3600 - hours)*60\n",
    "    minutes = time_w_s//1\n",
    "    seconds = (time_w_s - minutes)*60\n",
    "    return str(round(hours)) + \":\" + str(round(minutes)) + \":\" + str(round(seconds))\n",
    "    \n",
    "playback_duration(\"01:20:00\", 1.5)"
   ]
  },
  {
   "cell_type": "markdown",
   "id": "adf85225",
   "metadata": {},
   "source": [
    "2. We needs your help to construct a building which will be a pile of n cubes.\n",
    "The cube at the bottom will have a volume of n^3, the cube above will have\n",
    "volume of (n-1)^3 and so on until the top which will have a volume of 1^3.\n",
    "Given the total volume m of the building, can you find the number of cubes n\n",
    "required for the building?\n",
    "In other words, you have to return an integer n such that:\n",
    "n^3 + (n-1)^3 + ... + 1^3 == m\n",
    "Return None if there is no such number.\n",
    "Examples\n",
    "pile_of_cubes(1071225) ➞ 45"
   ]
  },
  {
   "cell_type": "code",
   "execution_count": 31,
   "id": "77e2cbfc",
   "metadata": {},
   "outputs": [
    {
     "data": {
      "text/plain": [
       "False"
      ]
     },
     "execution_count": 31,
     "metadata": {},
     "output_type": "execute_result"
    }
   ],
   "source": [
    "def pile_of_cubes_r(num, n, res):\n",
    "    if res + n**3 > num:\n",
    "        return False\n",
    "    if res + n**3 == num:\n",
    "        return n\n",
    "    \n",
    "    return pile_of_cubes_r(num, n+1, res + n**3)\n",
    "\n",
    "def pile_of_cubes(num):\n",
    "    return pile_of_cubes_r(num, 1, 0)\n",
    "\n",
    "pile_of_cubes(16)"
   ]
  },
  {
   "cell_type": "markdown",
   "id": "8eb767ce",
   "metadata": {},
   "source": [
    "3. A fulcrum of a list is an integer such that all elements to the left of it and all\n",
    "elements to the right of it sum to the same value. Write a function that finds\n",
    "the fulcrum of a list.\n",
    "To illustrate:\n",
    "find_fulcrum([3, 1, 5, 2, 4, 6, -1]) ➞ 2\n",
    "// Since [3, 1, 5] and [4, 6, -1] both sum to 9"
   ]
  },
  {
   "cell_type": "code",
   "execution_count": 42,
   "id": "ce1b7cb7",
   "metadata": {},
   "outputs": [
    {
     "name": "stdout",
     "output_type": "stream",
     "text": [
      "[8] [8, 8]\n",
      "[8, 8] [8]\n"
     ]
    },
    {
     "data": {
      "text/plain": [
       "-1"
      ]
     },
     "execution_count": 42,
     "metadata": {},
     "output_type": "execute_result"
    }
   ],
   "source": [
    "def find_fulcrum(arr):\n",
    "    for i in range(1, len(arr)-1):\n",
    "        print(arr[:i], arr[i+1:])\n",
    "        if sum(arr[:i]) == sum(arr[i+1:]):\n",
    "            return arr[i]\n",
    "    return -1\n",
    "        \n",
    "find_fulcrum([8, 8, 8, 8])"
   ]
  },
  {
   "cell_type": "markdown",
   "id": "711de22d",
   "metadata": {},
   "source": [
    "4. Given a list of integers representing the color of each sock, determine how\n",
    "many pairs of socks with matching colors there are. For example, there are 7\n",
    "socks with colors [1, 2, 1, 2, 1, 3, 2]. There is one pair of color 1 and one of\n",
    "color 2. There are three odd socks left, one of each color. The number of\n",
    "pairs is 2.\n",
    "Create a function that returns an integer representing the number of matching\n",
    "pairs of socks that are available.\n",
    "Examples\n",
    "sock_merchant([10, 20, 20, 10, 10, 30, 50, 10, 20])"
   ]
  },
  {
   "cell_type": "code",
   "execution_count": 48,
   "id": "9cdc0acf",
   "metadata": {},
   "outputs": [
    {
     "data": {
      "text/plain": [
       "0"
      ]
     },
     "execution_count": 48,
     "metadata": {},
     "output_type": "execute_result"
    }
   ],
   "source": [
    "from collections import Counter\n",
    "\n",
    "def sock_merchant(arr):\n",
    "    c = Counter(arr)\n",
    "    res = 0\n",
    "    for k, v in c.items():\n",
    "        res += v//2\n",
    "    return res\n",
    "\n",
    "sock_merchant([1])"
   ]
  },
  {
   "cell_type": "markdown",
   "id": "87361c2e",
   "metadata": {},
   "source": [
    "5. Create a function that takes a string containing integers as well as other\n",
    "characters and return the sum of the negative integers only.\n",
    "Examples\n",
    "negative_sum(\"-12 13%14&-11\") ➞ -23\n",
    "#-12 + -11 = -23"
   ]
  },
  {
   "cell_type": "code",
   "execution_count": 60,
   "id": "c08dd95b",
   "metadata": {},
   "outputs": [
    {
     "data": {
      "text/plain": [
       "-23"
      ]
     },
     "execution_count": 60,
     "metadata": {},
     "output_type": "execute_result"
    }
   ],
   "source": [
    "def negative_sum(text):\n",
    "    arr = list(text)\n",
    "    neg_num = False\n",
    "    temp_num = \"\"\n",
    "    res = 0\n",
    "    for a in arr:\n",
    "        if a == \"-\":\n",
    "            if neg_num:\n",
    "                res += int(temp_num)\n",
    "                neg_num = True\n",
    "                temp_num= \"\"\n",
    "            else:\n",
    "                neg_num = True\n",
    "                \n",
    "        elif neg_num and a.isdigit():\n",
    "            temp_num += a\n",
    "            \n",
    "        elif neg_num and not a.isdigit():\n",
    "            res += int(temp_num)\n",
    "            neg_num = False\n",
    "            temp_num= \"\"\n",
    "            \n",
    "            \n",
    "    if neg_num:\n",
    "        res += int(temp_num)\n",
    "        \n",
    "    return res*(-1)\n",
    "\n",
    "negative_sum(\"-12 13%14&amp;-11\")"
   ]
  },
  {
   "cell_type": "code",
   "execution_count": null,
   "id": "2a26e354",
   "metadata": {},
   "outputs": [],
   "source": []
  }
 ],
 "metadata": {
  "kernelspec": {
   "display_name": "Python 3 (ipykernel)",
   "language": "python",
   "name": "python3"
  },
  "language_info": {
   "codemirror_mode": {
    "name": "ipython",
    "version": 3
   },
   "file_extension": ".py",
   "mimetype": "text/x-python",
   "name": "python",
   "nbconvert_exporter": "python",
   "pygments_lexer": "ipython3",
   "version": "3.9.12"
  }
 },
 "nbformat": 4,
 "nbformat_minor": 5
}

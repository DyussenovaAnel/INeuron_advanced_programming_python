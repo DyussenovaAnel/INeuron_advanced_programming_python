{
 "cells": [
  {
   "cell_type": "markdown",
   "id": "4aded4dd",
   "metadata": {},
   "source": [
    "1. Rondo Form is a type of musical structure, in which there is a recurring\n",
    "theme/refrain, notated as A. Here are the rules for valid rondo forms:\n",
    "- Rondo forms always start and end with an A section.\n",
    "- In between the A sections, there should be contrasting sections notated as\n",
    "B, then C, then D, etc... No letter should be skipped.\n",
    "- There shouldn't be any repeats in the sequence (such as ABBACCA).\n",
    "Create a function which validates whether a given string is a valid Rondo\n",
    "Form.\n",
    "Examples\n",
    "valid_rondo(\"ABACADAEAFAGAHAIAJA\") ➞ True"
   ]
  },
  {
   "cell_type": "code",
   "execution_count": 8,
   "id": "e56e7074",
   "metadata": {},
   "outputs": [
    {
     "data": {
      "text/plain": [
       "False"
      ]
     },
     "execution_count": 8,
     "metadata": {},
     "output_type": "execute_result"
    }
   ],
   "source": [
    "def valid_rondo(text):\n",
    "    arr = list(text)\n",
    "    if arr[0]!=\"A\" or arr[-1]!=\"A\" or len(arr)<=1:\n",
    "        return False \n",
    "    \n",
    "    prev = arr[0]\n",
    "    for i in range(1, len(arr)):\n",
    "        if prev == arr[i]:\n",
    "            return False \n",
    "        else:\n",
    "            prev = arr[i]\n",
    "    \n",
    "    return True\n",
    "\n",
    "# valid_rondo(\"ABACADAEAFAGAHAIAJA\") \n",
    "# valid_rondo(\"ABA\")\n",
    "# valid_rondo(\"ABBACCA\") \n",
    "# valid_rondo(\"ACAC\") \n",
    "valid_rondo(\"A\") "
   ]
  },
  {
   "cell_type": "markdown",
   "id": "30c3fd29",
   "metadata": {},
   "source": [
    "2. Create a function that returns the whole of the first sentence which\n",
    "contains a specific word. Include the full stop at the end of the sentence.\n",
    "Examples\n",
    "txt = \"I have a cat. I have a mat. Things are going swell.\"\n",
    "sentence_searcher(txt, \"have\") ➞ \"I have a cat.\""
   ]
  },
  {
   "cell_type": "code",
   "execution_count": 17,
   "id": "ff9ad743",
   "metadata": {},
   "outputs": [
    {
     "data": {
      "text/plain": [
       "'I have a mat.'"
      ]
     },
     "execution_count": 17,
     "metadata": {},
     "output_type": "execute_result"
    }
   ],
   "source": [
    "def sentence_searcher(txt, target):\n",
    "    arr = txt.split(\".\")\n",
    "    for a in arr:\n",
    "        if target.lower() in a.lower():\n",
    "            return a.lstrip()+\".\"\n",
    "        \n",
    "txt = \"I have a cat. I have a mat. Things are going swell.\"\n",
    "# sentence_searcher(txt, \"have\")\n",
    "sentence_searcher(txt, \"MAt\") "
   ]
  },
  {
   "cell_type": "markdown",
   "id": "8e6b3540",
   "metadata": {},
   "source": [
    "3. Given a number, find the &quot;round &quot;of each digit of the number. An integer is\n",
    "called &quot;round&quot; if all its digits except the leftmost (most significant) are equal to\n",
    "zero.\n",
    "- Round numbers: 4000, 1, 9, 800, 90\n",
    "- Not round numbers: 110, 707, 222, 1001\n",
    "\n",
    "Create a function that takes a number and returns the &quot;round&quot; of each digit\n",
    "(except if the digit is zero) as a string. Check out the following examples for\n",
    "more clarification.\n",
    "Examples\n",
    "sum_round(101) ➞ \"1 100\""
   ]
  },
  {
   "cell_type": "code",
   "execution_count": 39,
   "id": "9320c433",
   "metadata": {},
   "outputs": [
    {
     "data": {
      "text/plain": [
       "'4 30 200 1000'"
      ]
     },
     "execution_count": 39,
     "metadata": {},
     "output_type": "execute_result"
    }
   ],
   "source": [
    "def sum_round(n):\n",
    "    arr = list(str(n))\n",
    "    res = []\n",
    "    for i in range(0, len(arr)):\n",
    "        res.append(str(int(arr[i])*int(\"\".join([\"1\"]+[\"0\" for j in range(0, len(arr)-i-1)]))))\n",
    "    \n",
    "    res = res[::-1]\n",
    "    return \" \".join(res)\n",
    "        \n",
    "sum_round(1234)"
   ]
  },
  {
   "cell_type": "markdown",
   "id": "148e66c4",
   "metadata": {},
   "source": [
    "4. Your task, is to create N x N multiplication table, of size n provided in\n",
    "parameter.\n",
    "For example, when n is 5, the multiplication table is:\n",
    "- 1, 2, 3, 4, 5\n",
    "- 2, 4, 6, 8, 10\n",
    "- 3, 6, 9, 12, 15\n",
    "- 4, 8, 12, 16, 20\n",
    "- 5, 10, 15, 20, 25\n",
    "This example will result in:\n",
    "[[1, 2, 3, 4, 5], [2, 4, 6, 8, 10], [3, 6, 9, 12, 15], [4, 8, 12, 16, 20], [5, 10, 15, 20,\n",
    "25]]\n",
    "Examples\n",
    "multiplication_table(1) ➞ [[1]]"
   ]
  },
  {
   "cell_type": "code",
   "execution_count": 44,
   "id": "ba0e5674",
   "metadata": {},
   "outputs": [
    {
     "data": {
      "text/plain": [
       "[[1, 2, 3, 4, 5],\n",
       " [2, 4, 6, 8, 10],\n",
       " [3, 6, 9, 12, 15],\n",
       " [4, 8, 12, 16, 20],\n",
       " [5, 10, 15, 20, 25]]"
      ]
     },
     "execution_count": 44,
     "metadata": {},
     "output_type": "execute_result"
    }
   ],
   "source": [
    "def multiplication_table(n):\n",
    "    res = []\n",
    "    for i in range(0, n):\n",
    "        res.append([])\n",
    "        for j in range(0, n):\n",
    "            res[i].append((i+1)*(j+1))\n",
    "    return res\n",
    "\n",
    "multiplication_table(5)"
   ]
  },
  {
   "cell_type": "markdown",
   "id": "50bd6457",
   "metadata": {},
   "source": [
    "5. Create a function that returns True if two lines rhyme and False otherwise.\n",
    "For the purposes of this exercise, two lines rhyme if the last word from each\n",
    "sentence contains the same vowels.\n",
    "Examples\n",
    "does_rhyme(\"Sam I am!\", \"Green eggs and HAM.\") ➞ True"
   ]
  },
  {
   "cell_type": "code",
   "execution_count": 54,
   "id": "fed139db",
   "metadata": {},
   "outputs": [
    {
     "name": "stdout",
     "output_type": "stream",
     "text": [
      "races day\n"
     ]
    },
    {
     "data": {
      "text/plain": [
       "False"
      ]
     },
     "execution_count": 54,
     "metadata": {},
     "output_type": "execute_result"
    }
   ],
   "source": [
    "import re\n",
    "def does_rhyme(txt1, txt2):\n",
    "    txt1 = re.sub(r'[^\\w\\s]','',txt1)\n",
    "    txt2 = re.sub(r'[^\\w\\s]','',txt2)\n",
    "    w1 = txt1.split(\" \")[-1].lower()\n",
    "    w2 = txt2.split(\" \")[-1].lower()\n",
    "    print(w1, w2)\n",
    "    \n",
    "    w1_vowels = re.findall(\"(?i)([aeiou])\", w1)\n",
    "    w2_vowels = re.findall(\"(?i)([aeiou])\",  w2)\n",
    "    \n",
    "    w1_vowels.sort()\n",
    "    w2_vowels.sort()\n",
    "    if w1_vowels == w2_vowels:\n",
    "        return True\n",
    "    else:\n",
    "        return False\n",
    "    \n",
    "# does_rhyme(\"Sam I am!\", \"Green eggs and ham.\")\n",
    "does_rhyme(\"You are off to the races\", \"a splendid day.\")"
   ]
  },
  {
   "cell_type": "code",
   "execution_count": null,
   "id": "f975bbfa",
   "metadata": {},
   "outputs": [],
   "source": []
  }
 ],
 "metadata": {
  "kernelspec": {
   "display_name": "Python 3 (ipykernel)",
   "language": "python",
   "name": "python3"
  },
  "language_info": {
   "codemirror_mode": {
    "name": "ipython",
    "version": 3
   },
   "file_extension": ".py",
   "mimetype": "text/x-python",
   "name": "python",
   "nbconvert_exporter": "python",
   "pygments_lexer": "ipython3",
   "version": "3.9.12"
  }
 },
 "nbformat": 4,
 "nbformat_minor": 5
}

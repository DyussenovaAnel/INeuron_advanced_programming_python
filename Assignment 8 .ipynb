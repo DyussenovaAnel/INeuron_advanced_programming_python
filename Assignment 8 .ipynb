{
 "cells": [
  {
   "cell_type": "markdown",
   "id": "e5cce01a",
   "metadata": {},
   "source": [
    "1. Given a sentence as txt, return True if any two adjacent words have this\n",
    "property: One word ends with a vowel, while the word immediately after\n",
    "begins with a vowel (a e i o u).\n",
    "Examples\n",
    "vowel_links(\"a very large appliance\") ➞ True"
   ]
  },
  {
   "cell_type": "code",
   "execution_count": 3,
   "id": "0ce0ac91",
   "metadata": {},
   "outputs": [
    {
     "data": {
      "text/plain": [
       "True"
      ]
     },
     "execution_count": 3,
     "metadata": {},
     "output_type": "execute_result"
    }
   ],
   "source": [
    "import re\n",
    "def vowel_links(text):\n",
    "    text = re.sub(r'[^\\w\\s]','',text)\n",
    "    arr =  text.split(\" \")\n",
    "    for i in range(0, len(arr)-1):\n",
    "        if arr[i][-1] in \"eyuioa\" and arr[i+1][0] in \"eyuioa\" :\n",
    "            return True\n",
    "    return False\n",
    "\n",
    "vowel_links(\"a very large appliance\")"
   ]
  },
  {
   "cell_type": "markdown",
   "id": "f4d6eaab",
   "metadata": {},
   "source": [
    "2. You are given three inputs: a string, one letter, and a second letter.\n",
    "Write a function that returns True if every instance of the first letter occurs\n",
    "before every instance of the second letter.\n",
    "Examples\n",
    "first_before_second(\"a rabbit jumps joyfully\", \"a\", \"j\") ➞ True\n",
    "#Every instance of \"a\" occurs before every instance of \"j\"."
   ]
  },
  {
   "cell_type": "code",
   "execution_count": 9,
   "id": "dec91a75",
   "metadata": {},
   "outputs": [
    {
     "data": {
      "text/plain": [
       "True"
      ]
     },
     "execution_count": 9,
     "metadata": {},
     "output_type": "execute_result"
    }
   ],
   "source": [
    "def first_before_second(text, a, b):\n",
    "    return text.index(b) > text.rfind(a)\n",
    "    \n",
    "first_before_second(\"a rabbit jumps joyfully\", \"a\", \"j\")"
   ]
  },
  {
   "cell_type": "markdown",
   "id": "c5122a2b",
   "metadata": {},
   "source": [
    "3. Create a function that returns the characters from a list or string r on odd or\n",
    "even positions, depending on the specifier s. The specifier will be \"odd\" for\n",
    "items on odd positions (1, 3, 5, ...) and \"even\" for items on even positions (2,\n",
    "4, 6, ...).\n",
    "Examples\n",
    "char_at_pos([2, 4, 6, 8, 10], \"even\") ➞ [4, 8]\n",
    "#4 &amp; 8 occupy the 2nd &amp; 4th positions"
   ]
  },
  {
   "cell_type": "code",
   "execution_count": 14,
   "id": "4feb64ca",
   "metadata": {},
   "outputs": [
    {
     "data": {
      "text/plain": [
       "'EAI'"
      ]
     },
     "execution_count": 14,
     "metadata": {},
     "output_type": "execute_result"
    }
   ],
   "source": [
    "def char_at_pos(l_s, ev_odd):\n",
    "    if ev_odd == \"even\":\n",
    "        return l_s[1::2]\n",
    "    if ev_odd == \"odd\":\n",
    "        return l_s[::2]\n",
    "    \n",
    "char_at_pos(\"EDABIT\", \"odd\")"
   ]
  },
  {
   "cell_type": "markdown",
   "id": "5b23bb78",
   "metadata": {},
   "source": [
    "4. Write a function that returns the greatest common divisor of all list\n",
    "elements. If the greatest common divisor is 1, return 1.\n",
    "Examples\n",
    "GCD([10, 20, 40]) ➞ 10"
   ]
  },
  {
   "cell_type": "code",
   "execution_count": 24,
   "id": "01530e5c",
   "metadata": {},
   "outputs": [
    {
     "data": {
      "text/plain": [
       "64"
      ]
     },
     "execution_count": 24,
     "metadata": {},
     "output_type": "execute_result"
    }
   ],
   "source": [
    "from math import sqrt\n",
    "\n",
    "def GCD(arr):\n",
    "    flag = False\n",
    "    for a in arr:\n",
    "        if a%min(arr)==0:\n",
    "            flag = True\n",
    "        else:\n",
    "            flag = False \n",
    "            break;\n",
    "    if flag:\n",
    "        return min(arr)\n",
    "        \n",
    "    n = min(arr)\n",
    "    for i in range(n//2 + 1,  2, -1):\n",
    "        flag = False\n",
    "        for a in arr: \n",
    "            if (a % i == 0):\n",
    "                flag = True\n",
    "            else:\n",
    "                flag = False\n",
    "                break;\n",
    "        if flag:\n",
    "            return i\n",
    "        \n",
    "GCD([1024, 192, 2048, 512])"
   ]
  },
  {
   "cell_type": "markdown",
   "id": "82c0de2b",
   "metadata": {},
   "source": [
    "5. A number/string is a palindrome if the digits/characters are the same when\n",
    "read both forward and backward. Examples include &quot;racecar&quot; and 12321.\n",
    "Given a positive number n, check if n or the binary representation of n is\n",
    "palindromic. Return the following:\n",
    "- \"Decimal only. if only n is a palindrome.\n",
    "- Binary only. if only the binary representation of n is a palindrome.\n",
    "- Decimal and binary. if both are palindromes.\n",
    "- Neither! if neither are palindromes.\n",
    "Examples\n",
    "palindrome_type(1306031) ➞ &quot;Decimal only.&quot;\n",
    "#decimal = 1306031\n",
    "#binary = &quot;100111110110110101111&quot;"
   ]
  },
  {
   "cell_type": "code",
   "execution_count": 38,
   "id": "05629e13",
   "metadata": {},
   "outputs": [
    {
     "name": "stdout",
     "output_type": "stream",
     "text": [
      "313 313 100111001 100111001\n"
     ]
    },
    {
     "data": {
      "text/plain": [
       "'Decimal and binary'"
      ]
     },
     "execution_count": 38,
     "metadata": {},
     "output_type": "execute_result"
    }
   ],
   "source": [
    "def palindrome_type(num):\n",
    "    n = str(num)[::-1]\n",
    "    b = str(bin(num))[2::]\n",
    "    b1 = b[::-1]\n",
    "    print(int(num), int(n), b, b1)\n",
    "    if int(num) == int(n) and b!=b1:\n",
    "        return \"Decimal only\"\n",
    "    elif int(num) != int(n) and b==b1:\n",
    "        return \"Binary only\"\n",
    "    elif int(num) == int(n) and b==b1:\n",
    "        return \"Decimal and binary\"\n",
    "    else:\n",
    "        return \"Neither!\"\n",
    "        \n",
    "    \n",
    "palindrome_type(313)"
   ]
  },
  {
   "cell_type": "code",
   "execution_count": null,
   "id": "89f4b37a",
   "metadata": {},
   "outputs": [],
   "source": []
  }
 ],
 "metadata": {
  "kernelspec": {
   "display_name": "Python 3 (ipykernel)",
   "language": "python",
   "name": "python3"
  },
  "language_info": {
   "codemirror_mode": {
    "name": "ipython",
    "version": 3
   },
   "file_extension": ".py",
   "mimetype": "text/x-python",
   "name": "python",
   "nbconvert_exporter": "python",
   "pygments_lexer": "ipython3",
   "version": "3.9.12"
  }
 },
 "nbformat": 4,
 "nbformat_minor": 5
}

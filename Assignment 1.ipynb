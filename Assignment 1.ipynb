{
 "cells": [
  {
   "cell_type": "markdown",
   "id": "b5e011cd",
   "metadata": {},
   "source": [
    "1. Write a function that takes a list of lists and returns the value of all of the\n",
    "symbols in it, where each symbol adds or takes something from the total\n",
    "score. Symbol values:\n",
    "# = 5\n",
    "O = 3\n",
    "X = 1\n",
    "! = -1\n",
    "!! = -3\n",
    "!!! = -5"
   ]
  },
  {
   "cell_type": "code",
   "execution_count": 2,
   "id": "a0d4c3e1",
   "metadata": {},
   "outputs": [
    {
     "data": {
      "text/plain": [
       "2"
      ]
     },
     "execution_count": 2,
     "metadata": {},
     "output_type": "execute_result"
    }
   ],
   "source": [
    "def check_score(arr):\n",
    "    d ={\n",
    "        \"#\":5, \n",
    "        \"0\":3,\n",
    "        \"X\":1,\n",
    "        \"!\":-1,\n",
    "        \"!!\":-3,\n",
    "        \"!!!\":-5\n",
    "    }\n",
    "    flat_list = [item for sublist in arr for item in sublist]\n",
    "    res = 0\n",
    "    for a in flat_list:\n",
    "        res += d[a]\n",
    "    return res\n",
    "\n",
    "check_score([\n",
    "[\"#\", \"!\"],\n",
    "[\"!!\", \"X\"]\n",
    "])"
   ]
  },
  {
   "cell_type": "markdown",
   "id": "0910647f",
   "metadata": {},
   "source": [
    "2. Create a function that takes a variable number of arguments, each\n",
    "argument representing the number of items in a group, and returns the\n",
    "number of permutations (combinations) of items that you could get by taking\n",
    "one item from each group.\n",
    "Examples\n",
    "combinations(2, 3)"
   ]
  },
  {
   "cell_type": "code",
   "execution_count": 4,
   "id": "9081070a",
   "metadata": {},
   "outputs": [
    {
     "data": {
      "text/plain": [
       "6"
      ]
     },
     "execution_count": 4,
     "metadata": {},
     "output_type": "execute_result"
    }
   ],
   "source": [
    "import math\n",
    "def combinations(*args):\n",
    "    return math.prod(args)\n",
    "\n",
    "combinations(2, 3)"
   ]
  },
  {
   "cell_type": "markdown",
   "id": "f57cc9eb",
   "metadata": {},
   "source": [
    "3. Create a function that takes a string as an argument and returns the Morse\n",
    "code equivalent."
   ]
  },
  {
   "cell_type": "code",
   "execution_count": 7,
   "id": "721393fe",
   "metadata": {},
   "outputs": [
    {
     "data": {
      "text/plain": [
       "'.-...--...-.....- -.-......-.-...-...-.--..'"
      ]
     },
     "execution_count": 7,
     "metadata": {},
     "output_type": "execute_result"
    }
   ],
   "source": [
    "def encode_morse(text):\n",
    "    char_to_dots = {\n",
    "        'A': '.-', 'B': '-...', 'C': '-.-.', 'D': '-..', 'E': '.', 'F': '..-.',\n",
    "        'G': '--.', 'H': '....', 'I': '..', 'J': '.---', 'K': '-.-', 'L': '.-..',\n",
    "        'M': '--', 'N': '-.', 'O': '---', 'P': '.--.', 'Q': '--.-', 'R': '.-.',\n",
    "        'S': '...', 'T': '-', 'U': '..-', 'V': '...-', 'W': '.--', 'X': '-..-',\n",
    "        'Y': '-.--', 'Z': '--..', ' ': ' ', '0': '-----',\n",
    "        '1': '.----', '2': '..---', '3': '...--', '4': '....-', '5': '.....',\n",
    "        '6': '-....', '7': '--...', '8': '---..', '9': '----.',\n",
    "        '&': '.-...', \"'\": '.----.', '@': '.--.-.', ')': '-.--.-', '(': '-.--.',\n",
    "        ':': '---...', ',': '--..--', '=': '-...-', '!': '-.-.--', '.': '.-.-.-',\n",
    "        '-': '-....-', '+': '.-.-.', '\"': '.-..-.', '?': '..--..', '/': '-..-.'\n",
    "    }\n",
    "    arr = list(text)\n",
    "    res = \"\"\n",
    "    for a in arr:\n",
    "        res += char_to_dots[a]\n",
    "    return res\n",
    "encode_morse(\"EDABBIT CHALLENGE\")"
   ]
  },
  {
   "cell_type": "code",
   "execution_count": null,
   "id": "cc711636",
   "metadata": {},
   "outputs": [],
   "source": [
    "4. Write a function that takes a number and returns True if it&#39;s a prime; False\n",
    "otherwise. The number can be 2^64-1 (2 to the power of 63, not XOR). With\n",
    "the standard technique it would be O(2^64-1), which is much too large for the\n",
    "10 second time limit."
   ]
  },
  {
   "cell_type": "code",
   "execution_count": 10,
   "id": "f1112d9b",
   "metadata": {},
   "outputs": [
    {
     "data": {
      "text/plain": [
       "False"
      ]
     },
     "execution_count": 10,
     "metadata": {},
     "output_type": "execute_result"
    }
   ],
   "source": [
    "from math import sqrt\n",
    "def prime(n):\n",
    "    prime_flag = 0\n",
    "\n",
    "    if(n > 1):\n",
    "        for i in range(2, int(sqrt(n)) + 1):\n",
    "            if (n % i == 0):\n",
    "                prime_flag = 1\n",
    "                return False\n",
    "        return True\n",
    "    else:\n",
    "        return False\n",
    "\n",
    "prime(5151512515524)"
   ]
  },
  {
   "cell_type": "markdown",
   "id": "c8524f6b",
   "metadata": {},
   "source": [
    "5. Create a function that converts a word to a bitstring and then to a boolean\n",
    "list based on the following criteria:\n",
    "1. Locate the position of the letter in the English alphabet (from 1 to 26).\n",
    "2. Odd positions will be represented as 1 and 0 otherwise.\n",
    "3. Convert the represented positions to boolean values, 1 for True and 0\n",
    "for False.\n",
    "4. Store the conversions into an array."
   ]
  },
  {
   "cell_type": "code",
   "execution_count": 15,
   "id": "da317874",
   "metadata": {},
   "outputs": [
    {
     "data": {
      "text/plain": [
       "[True, False, False, True]"
      ]
     },
     "execution_count": 15,
     "metadata": {},
     "output_type": "execute_result"
    }
   ],
   "source": [
    "def to_boolean_list(word):\n",
    "    arr = list(word)\n",
    "    res = []\n",
    "    for a in arr:\n",
    "        num = ord(a)-96\n",
    "        res.append(num%2==0)\n",
    "    return res\n",
    "\n",
    "to_boolean_list(\"deep\")"
   ]
  },
  {
   "cell_type": "code",
   "execution_count": null,
   "id": "5629aa2a",
   "metadata": {},
   "outputs": [],
   "source": []
  }
 ],
 "metadata": {
  "kernelspec": {
   "display_name": "Python 3 (ipykernel)",
   "language": "python",
   "name": "python3"
  },
  "language_info": {
   "codemirror_mode": {
    "name": "ipython",
    "version": 3
   },
   "file_extension": ".py",
   "mimetype": "text/x-python",
   "name": "python",
   "nbconvert_exporter": "python",
   "pygments_lexer": "ipython3",
   "version": "3.9.12"
  }
 },
 "nbformat": 4,
 "nbformat_minor": 5
}

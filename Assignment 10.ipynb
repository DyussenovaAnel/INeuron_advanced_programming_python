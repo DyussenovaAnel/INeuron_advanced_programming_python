{
 "cells": [
  {
   "cell_type": "markdown",
   "id": "470338a7",
   "metadata": {},
   "source": [
    "1. Create a function that takes the width, height and character and returns a\n",
    "picture frame as a 2D list.\n",
    "Examples\n",
    "get_frame(4, 5, \"#\") ➞ [\n",
    "[\"####\"],\n",
    "[\"# #\"],\n",
    "[\"# #\"],\n",
    "[\"# #\"],\n",
    "[\"####\"]\n",
    "]\n"
   ]
  },
  {
   "cell_type": "code",
   "execution_count": 8,
   "id": "2601ce9d",
   "metadata": {},
   "outputs": [
    {
     "data": {
      "text/plain": [
       "['####', '#  #', '#  #', '#  #', '####']"
      ]
     },
     "execution_count": 8,
     "metadata": {},
     "output_type": "execute_result"
    }
   ],
   "source": [
    "def get_frame(width, height, character):\n",
    "    res = []\n",
    "    for i in range(0, height):\n",
    "        res.append([])\n",
    "        if i==0 or i==height-1:\n",
    "            text = \"\"\n",
    "            for j in range(0, width):\n",
    "                text += character\n",
    "            res[i] = text\n",
    "            text = \"\"\n",
    "        else:\n",
    "            text = \"\"\n",
    "            for j in range(0, width):\n",
    "                if j==0 or j==width-1:\n",
    "                    text += character\n",
    "                else:\n",
    "                    text += \" \"\n",
    "            res[i] = text\n",
    "            text = \"\"\n",
    "    return res\n",
    "      \n",
    "get_frame(4, 5, \"#\")"
   ]
  },
  {
   "cell_type": "markdown",
   "id": "5294606f",
   "metadata": {},
   "source": [
    "2. Write three functions:\n",
    "1. boolean_and\n",
    "2. boolean_or\n",
    "3. boolean_xor\n",
    "These functions should evaluate a list of True and False values, starting from\n",
    "the leftmost element and evaluating pairwise.\n",
    "Examples\n",
    "boolean_and([True, True, False, True]) ➞ False\n",
    "#[True, True, False, True] =&gt; [True, False, True] =&gt; [False, True] =&gt; False"
   ]
  },
  {
   "cell_type": "markdown",
   "id": "f74335a5",
   "metadata": {},
   "source": [
    "3. Create a function that creates a box based on dimension n.\n",
    "Examples\n",
    "make_box(5) ➞ [\n",
    "\"#####\",\n",
    "\"# #\",\n",
    "\"# #\",\n",
    "\"# #\",\n",
    "\"#####\"\n",
    "]\n"
   ]
  },
  {
   "cell_type": "code",
   "execution_count": 10,
   "id": "55c46295",
   "metadata": {},
   "outputs": [
    {
     "data": {
      "text/plain": [
       "['##', '##']"
      ]
     },
     "execution_count": 10,
     "metadata": {},
     "output_type": "execute_result"
    }
   ],
   "source": [
    "def make_box(n):\n",
    "    return get_frame(n, n, \"#\")\n",
    "\n",
    "make_box(2)"
   ]
  },
  {
   "cell_type": "markdown",
   "id": "470bcafe",
   "metadata": {},
   "source": [
    "4. Given a common phrase, return False if any individual word in the phrase\n",
    "contains duplicate letters. Return True otherwise.\n",
    "Examples\n",
    "no_duplicate_letters(\"Fortune favours the bold.\") ➞ True"
   ]
  },
  {
   "cell_type": "code",
   "execution_count": 14,
   "id": "859f00ad",
   "metadata": {},
   "outputs": [
    {
     "data": {
      "text/plain": [
       "False"
      ]
     },
     "execution_count": 14,
     "metadata": {},
     "output_type": "execute_result"
    }
   ],
   "source": [
    "import re\n",
    "\n",
    "def no_duplicate_letters(text):\n",
    "    text = re.sub(r'[^\\w\\s]','',text)\n",
    "    arr = text.split(\" \")\n",
    "    for a in arr:\n",
    "        if len(set(list(a))) != len(list(a)):\n",
    "            return False \n",
    "    return True\n",
    "\n",
    "no_duplicate_letters(\"Look before you leap.\")"
   ]
  },
  {
   "cell_type": "markdown",
   "id": "e95f960a",
   "metadata": {},
   "source": [
    "5. Write a regular expression that will match the states that voted yes to\n",
    "President Trump's impeachment. You must use RegEx positive lookahead.\n",
    "Example\n",
    "txt =\"Texas = no, California = yes, Florida = yes, Michigan = no\"\n",
    "pattern = \"yourregularexpressionhere\"\n",
    "re.findall(pattern, txt) ➞ [\"California\", \"Florida\"]"
   ]
  },
  {
   "cell_type": "code",
   "execution_count": 55,
   "id": "a03b2ef5",
   "metadata": {},
   "outputs": [
    {
     "name": "stdout",
     "output_type": "stream",
     "text": [
      "['California', 'Florida']\n"
     ]
    }
   ],
   "source": [
    "import re\n",
    "\n",
    "def impeachment(text):\n",
    "    pattern = r\", (.+?) = yes+?\"\n",
    "    print(re.findall(pattern, text))\n",
    "    \n",
    "impeachment(\"Texas = no, California = yes, Florida = yes, Michigan = no\")"
   ]
  }
 ],
 "metadata": {
  "kernelspec": {
   "display_name": "Python 3 (ipykernel)",
   "language": "python",
   "name": "python3"
  },
  "language_info": {
   "codemirror_mode": {
    "name": "ipython",
    "version": 3
   },
   "file_extension": ".py",
   "mimetype": "text/x-python",
   "name": "python",
   "nbconvert_exporter": "python",
   "pygments_lexer": "ipython3",
   "version": "3.9.12"
  }
 },
 "nbformat": 4,
 "nbformat_minor": 5
}

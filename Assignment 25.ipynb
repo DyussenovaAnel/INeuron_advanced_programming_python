{
 "cells": [
  {
   "cell_type": "code",
   "execution_count": 16,
   "id": "b48b2b04",
   "metadata": {},
   "outputs": [],
   "source": [
    "def repeat(lst, n):\n",
    "    lst[:]= lst*n\n",
    "\n",
    "def add(lst, x):\n",
    "    lst.append(x)\n",
    "    \n",
    "def remove(lst, m, n):\n",
    "    lst[:] = lst[:m] + lst[n+1:]\n",
    "\n",
    "def concat(lst, arr):\n",
    "    lst[:]= lst+arr"
   ]
  },
  {
   "cell_type": "code",
   "execution_count": 18,
   "id": "206729d1",
   "metadata": {},
   "outputs": [
    {
     "data": {
      "text/plain": [
       "[1, 3, 4]"
      ]
     },
     "execution_count": 18,
     "metadata": {},
     "output_type": "execute_result"
    }
   ],
   "source": [
    "lst = [1, 2, 3, 4]\n",
    "repeat(lst, 3)\n",
    "add(lst, 1)\n",
    "remove(lst, 1, 12)\n",
    "concat(lst, [3, 4])\n",
    "lst"
   ]
  },
  {
   "cell_type": "code",
   "execution_count": 37,
   "id": "c4ed8820",
   "metadata": {},
   "outputs": [],
   "source": [
    "def guess_score(n, m):\n",
    "    n_arr = list(n)\n",
    "    n_arr_temp = n_arr.copy()\n",
    "    m_arr = list(m)\n",
    "    m_arr_temp = m_arr.copy()\n",
    "    res = {\"black\": 0, \"white\": 0}\n",
    "    for i in range(0, len(n_arr)):\n",
    "        if n_arr[i] == m_arr[i]:\n",
    "            res[\"black\"]+=1\n",
    "            n_arr_temp.pop(i)\n",
    "            m_arr_temp.pop(i)\n",
    "    \n",
    "    for m in m_arr_temp:\n",
    "        if m in n_arr_temp:\n",
    "            res[\"white\"]+=1\n",
    "    return res"
   ]
  },
  {
   "cell_type": "code",
   "execution_count": 38,
   "id": "7bae8421",
   "metadata": {},
   "outputs": [
    {
     "data": {
      "text/plain": [
       "{'black': 1, 'white': 0}"
      ]
     },
     "execution_count": 38,
     "metadata": {},
     "output_type": "execute_result"
    }
   ],
   "source": [
    "guess_score(\"1423\", \"2222\")"
   ]
  },
  {
   "cell_type": "code",
   "execution_count": 39,
   "id": "9f69d47b",
   "metadata": {},
   "outputs": [
    {
     "data": {
      "text/plain": [
       "{'black': 1, 'white': 3}"
      ]
     },
     "execution_count": 39,
     "metadata": {},
     "output_type": "execute_result"
    }
   ],
   "source": [
    "guess_score(\"1423\", \"1234\")"
   ]
  },
  {
   "cell_type": "code",
   "execution_count": 54,
   "id": "fbe7997a",
   "metadata": {},
   "outputs": [],
   "source": [
    "def two_product(arr, target):\n",
    "    for i in range(0, len(arr)):\n",
    "        temp = arr[:i]+arr[i+1:]\n",
    "        if target/arr[i] in temp:\n",
    "            return [arr[i], int(target/arr[i])]\n",
    "    return None"
   ]
  },
  {
   "cell_type": "code",
   "execution_count": 55,
   "id": "10177d96",
   "metadata": {},
   "outputs": [
    {
     "data": {
      "text/plain": [
       "[4, 5]"
      ]
     },
     "execution_count": 55,
     "metadata": {},
     "output_type": "execute_result"
    }
   ],
   "source": [
    "two_product([1, 2, -1, 4, 5], 20)"
   ]
  },
  {
   "cell_type": "code",
   "execution_count": 56,
   "id": "cd3b958b",
   "metadata": {},
   "outputs": [
    {
     "data": {
      "text/plain": [
       "[2, 5]"
      ]
     },
     "execution_count": 56,
     "metadata": {},
     "output_type": "execute_result"
    }
   ],
   "source": [
    "two_product([1, 2, 3, 4, 5], 10)"
   ]
  },
  {
   "cell_type": "code",
   "execution_count": 57,
   "id": "159f35a2",
   "metadata": {},
   "outputs": [],
   "source": [
    "two_product([100, 12, 4, 1, 2], 15)"
   ]
  },
  {
   "cell_type": "code",
   "execution_count": 69,
   "id": "1ebd4781",
   "metadata": {},
   "outputs": [],
   "source": [
    "def sort_dates(arr, asc_dsc):\n",
    "    dic = []\n",
    "    for a in arr:\n",
    "        date, time = a.split(\"_\")[0], a.split(\"_\")[1]\n",
    "        y, m, d = date.split(\"-\")[2], date.split(\"-\")[1], date.split(\"-\")[0]\n",
    "        h, mi = time.split(\":\")[0], time.split(\":\")[1]\n",
    "        dic.append({\"y\":y, \"m\": m, \"d\":d, \"h\":h, \"mi\":mi})\n",
    "    \n",
    "    if asc_dsc == \"ASC\":\n",
    "        mylist = sorted(dic, key=lambda k: (k['y'], k['m'], k['d'], k['h'], k['mi']))\n",
    "    else:\n",
    "        mylist = sorted(dic, key=lambda k: (k['y'], k['m'], k['d'], k['h'], k['mi']), reverse = True)\n",
    "    \n",
    "    res = []\n",
    "    for l in mylist:\n",
    "        temp = \"{0}-{1}-{2}_{3}:{4}\".format(l[\"d\"],l[\"m\"],l[\"y\"],l[\"h\"],l[\"mi\"])\n",
    "        res.append(temp)\n",
    "    \n",
    "    return res"
   ]
  },
  {
   "cell_type": "code",
   "execution_count": 70,
   "id": "1c0989a5",
   "metadata": {},
   "outputs": [
    {
     "data": {
      "text/plain": [
       "['10-02-2016_12:30', '10-02-2018_12:15', '10-02-2018_12:30']"
      ]
     },
     "execution_count": 70,
     "metadata": {},
     "output_type": "execute_result"
    }
   ],
   "source": [
    "sort_dates([\"10-02-2018_12:30\", \"10-02-2016_12:30\", \"10-02-2018_12:15\"],\"ASC\") "
   ]
  },
  {
   "cell_type": "code",
   "execution_count": 71,
   "id": "3e134c39",
   "metadata": {},
   "outputs": [
    {
     "data": {
      "text/plain": [
       "['10-02-2018_12:30', '10-02-2018_12:15', '10-02-2016_12:30']"
      ]
     },
     "execution_count": 71,
     "metadata": {},
     "output_type": "execute_result"
    }
   ],
   "source": [
    "sort_dates([\"10-02-2018_12:30\", \"10-02-2016_12:30\", \"10-02-2018_12:15\"],\"DSC\")\n"
   ]
  },
  {
   "cell_type": "code",
   "execution_count": 72,
   "id": "4e56650b",
   "metadata": {},
   "outputs": [
    {
     "data": {
      "text/plain": [
       "['01-01-1999_00:55', '09-02-2000_10:03', '10-02-2000_18:29']"
      ]
     },
     "execution_count": 72,
     "metadata": {},
     "output_type": "execute_result"
    }
   ],
   "source": [
    "sort_dates([\"09-02-2000_10:03\", \"10-02-2000_18:29\", \"01-01-1999_00:55\"],\"ASC\")"
   ]
  },
  {
   "cell_type": "code",
   "execution_count": 105,
   "id": "e557fbd6",
   "metadata": {},
   "outputs": [],
   "source": [
    "def same_vowel_group(arr):\n",
    "    target = [each for each in arr[0] if each in \"aeiouAEIOU\"]\n",
    "    print(target)\n",
    "    target.sort()\n",
    "    target = set(target)\n",
    "    res = []\n",
    "    print(target)\n",
    "    for a in arr:\n",
    "        a_temp = [each for each in a if each in \"aeiouAEIOU\"]\n",
    "        a_temp.sort()\n",
    "        a_temp = set(a_temp)\n",
    "        print(a, a_temp)\n",
    "        if target == a_temp:\n",
    "            res.append(a)\n",
    "    return res"
   ]
  },
  {
   "cell_type": "code",
   "execution_count": 106,
   "id": "8ba53046",
   "metadata": {},
   "outputs": [
    {
     "name": "stdout",
     "output_type": "stream",
     "text": [
      "['o', 'e']\n",
      "{'e', 'o'}\n",
      "toe {'e', 'o'}\n",
      "ocelot {'e', 'o'}\n",
      "maniac {'i', 'a'}\n"
     ]
    },
    {
     "data": {
      "text/plain": [
       "['toe', 'ocelot']"
      ]
     },
     "execution_count": 106,
     "metadata": {},
     "output_type": "execute_result"
    }
   ],
   "source": [
    "same_vowel_group([\"toe\", \"ocelot\", \"maniac\"])"
   ]
  },
  {
   "cell_type": "code",
   "execution_count": 3,
   "id": "49347990",
   "metadata": {},
   "outputs": [
    {
     "name": "stdout",
     "output_type": "stream",
     "text": [
      "2520\n"
     ]
    }
   ],
   "source": [
    "from functools import reduce    # need this line if you're using Python3.x\n",
    "\n",
    "def lcm(a, b):\n",
    "    if a > b:\n",
    "        greater = a\n",
    "    else:\n",
    "        greater = b\n",
    "\n",
    "    while True:\n",
    "        if greater % a == 0 and greater % b == 0:\n",
    "            lcm = greater\n",
    "            break\n",
    "        greater += 1\n",
    "\n",
    "    return lcm\n",
    "\n",
    "def get_lcm_for(your_list):\n",
    "    return reduce(lambda x, y: lcm(x, y), your_list)\n",
    "\n",
    "ans = get_lcm_for([1, 2, 3, 4, 5, 6, 7, 8, 9, 10])\n",
    "print(ans)"
   ]
  },
  {
   "cell_type": "code",
   "execution_count": null,
   "id": "b3a3461c",
   "metadata": {},
   "outputs": [],
   "source": []
  }
 ],
 "metadata": {
  "kernelspec": {
   "display_name": "Python 3 (ipykernel)",
   "language": "python",
   "name": "python3"
  },
  "language_info": {
   "codemirror_mode": {
    "name": "ipython",
    "version": 3
   },
   "file_extension": ".py",
   "mimetype": "text/x-python",
   "name": "python",
   "nbconvert_exporter": "python",
   "pygments_lexer": "ipython3",
   "version": "3.9.12"
  }
 },
 "nbformat": 4,
 "nbformat_minor": 5
}

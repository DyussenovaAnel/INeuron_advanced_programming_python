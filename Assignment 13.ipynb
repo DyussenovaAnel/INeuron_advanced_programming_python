{
 "cells": [
  {
   "cell_type": "markdown",
   "id": "455d12fc",
   "metadata": {},
   "source": [
    "1. Create a function that takes a list and string. The function should remove\n",
    "the letters in the string from the list, and return the list.\n",
    "remove_letters([\"s\", \"t\", \"r\", \"i\", \"n\", \"g\", \"w\"], \"string\") ➞ [\"w\"]"
   ]
  },
  {
   "cell_type": "code",
   "execution_count": 11,
   "id": "d62bce6b",
   "metadata": {},
   "outputs": [
    {
     "data": {
      "text/plain": [
       "[]"
      ]
     },
     "execution_count": 11,
     "metadata": {},
     "output_type": "execute_result"
    }
   ],
   "source": [
    "def remove_letters(arr, word):\n",
    "    word_arr = list(word)\n",
    "    res = []\n",
    "    for w in word_arr:\n",
    "        if w not in arr:\n",
    "            res.append(w)\n",
    "        else:\n",
    "            arr.remove(w)\n",
    "    return arr\n",
    "\n",
    "remove_letters([\"d\", \"b\", \"t\", \"e\", \"a\", \"i\"], \"edabit\")\n"
   ]
  },
  {
   "cell_type": "markdown",
   "id": "fbea4b03",
   "metadata": {},
   "source": [
    "2. A block sequence in three dimensions. We can write a formula for this one:"
   ]
  },
  {
   "cell_type": "code",
   "execution_count": 7,
   "id": "474dc0c1",
   "metadata": {},
   "outputs": [
    {
     "data": {
      "text/plain": [
       "39"
      ]
     },
     "execution_count": 7,
     "metadata": {},
     "output_type": "execute_result"
    }
   ],
   "source": [
    "def blocks(n):\n",
    "    if n==1:\n",
    "        return 5\n",
    "    return blocks(n-1)+3+2+n\n",
    "\n",
    "blocks(5)"
   ]
  },
  {
   "cell_type": "markdown",
   "id": "9eb44658",
   "metadata": {},
   "source": [
    "3. Create a function that subtracts one positive integer from another, without\n",
    "using any arithmetic operators such as -, %, /, +, etc.\n",
    "Examples\n",
    "my_sub(5, 9) ➞ 4"
   ]
  },
  {
   "cell_type": "code",
   "execution_count": 16,
   "id": "d8e512a6",
   "metadata": {},
   "outputs": [
    {
     "data": {
      "text/plain": [
       "20"
      ]
     },
     "execution_count": 16,
     "metadata": {},
     "output_type": "execute_result"
    }
   ],
   "source": [
    "def my_sub(a,b):\n",
    "    x = max([a, b])\n",
    "    y = min([a, b])\n",
    "    while (y != 0):\n",
    "        borrow = (~x) & y\n",
    "        x = x ^ y\n",
    "        y = borrow << 1\n",
    "    return x\n",
    "\n",
    "my_sub(10, 30)"
   ]
  },
  {
   "cell_type": "markdown",
   "id": "ff623baf",
   "metadata": {},
   "source": [
    "4. Create a function that takes a string containing money in dollars and\n",
    "pounds sterling (seperated by comma) and returns the sum of dollar bills only,\n",
    "as an integer.\n",
    "For the input string:\n",
    "- Each amount is prefixed by the currency symbol: $ for dollars and £ for\n",
    "pounds.\n",
    "- Thousands are represented by the suffix k.\n",
    "i.e. $4k = $4,000 and £40k = £40,000"
   ]
  },
  {
   "cell_type": "code",
   "execution_count": 108,
   "id": "ade8fa96",
   "metadata": {},
   "outputs": [
    {
     "data": {
      "text/plain": [
       "2200"
      ]
     },
     "execution_count": 108,
     "metadata": {},
     "output_type": "execute_result"
    }
   ],
   "source": [
    "import re\n",
    "def add_bill(text):\n",
    "    regex = r\"d(\\d+k?)\\,?\"\n",
    "    person = re.findall(regex, text)\n",
    "    res = 0\n",
    "    for p in person:\n",
    "        if \"k\" in p:\n",
    "            p = int(p.replace(\"k\",\"\"))*1000\n",
    "        res+= int(p)\n",
    "    return res\n",
    "\n",
    "add_bill(\"p30,d2k,p60,d200,p360\")"
   ]
  },
  {
   "cell_type": "markdown",
   "id": "cb7cae73",
   "metadata": {},
   "source": [
    "5. Create a function that flips a horizontal list into a vertical list, and a vertical\n",
    "list into a horizontal list.\n",
    "In other words, take an 1 x n list (1 row + n columns) and flip it into a n x 1 list\n",
    "(n rows and 1 column), and vice versa.\n",
    "Examples\n",
    "flip_list([1, 2, 3, 4]) ➞ [[1], [2], [3], [4]]\n",
    "#Take a horizontal list and flip it vertical."
   ]
  },
  {
   "cell_type": "code",
   "execution_count": 115,
   "id": "77fcdc28",
   "metadata": {},
   "outputs": [
    {
     "name": "stdout",
     "output_type": "stream",
     "text": [
      "[[1]\n",
      " [2]\n",
      " [3]\n",
      " [4]]\n"
     ]
    }
   ],
   "source": [
    "import numpy\n",
    "\n",
    "def flip_list(arr):\n",
    "    res = numpy.reshape(arr, [len(arr), 1])\n",
    "    print(res)\n",
    "    \n",
    "flip_list([1, 2, 3, 4])"
   ]
  },
  {
   "cell_type": "code",
   "execution_count": null,
   "id": "34b0741c",
   "metadata": {},
   "outputs": [],
   "source": []
  }
 ],
 "metadata": {
  "kernelspec": {
   "display_name": "Python 3 (ipykernel)",
   "language": "python",
   "name": "python3"
  },
  "language_info": {
   "codemirror_mode": {
    "name": "ipython",
    "version": 3
   },
   "file_extension": ".py",
   "mimetype": "text/x-python",
   "name": "python",
   "nbconvert_exporter": "python",
   "pygments_lexer": "ipython3",
   "version": "3.9.12"
  }
 },
 "nbformat": 4,
 "nbformat_minor": 5
}

{
 "cells": [
  {
   "cell_type": "markdown",
   "id": "d5733f62",
   "metadata": {},
   "source": [
    "1. In mathematics, the Fibonacci numbers, commonly denoted Fn, form a\n",
    "sequence, called the Fibonacci sequence, such that each number is the sum\n",
    "of the two preceding ones, starting from 0 and 1:"
   ]
  },
  {
   "cell_type": "code",
   "execution_count": 4,
   "id": "879a9b37",
   "metadata": {},
   "outputs": [
    {
     "data": {
      "text/plain": [
       "6765"
      ]
     },
     "execution_count": 4,
     "metadata": {},
     "output_type": "execute_result"
    }
   ],
   "source": [
    "def fib_fast(n):\n",
    "    if n==1:\n",
    "        return 1\n",
    "    if n==0:\n",
    "        return 0\n",
    "    return fib_fast(n-2)+fib_fast(n-1)\n",
    "\n",
    "fib_fast(20)"
   ]
  },
  {
   "cell_type": "markdown",
   "id": "9087f278",
   "metadata": {},
   "source": [
    "2. Create a function that takes a strings characters as ASCII and returns each\n",
    "characters hexadecimal value as a string.\n"
   ]
  },
  {
   "cell_type": "code",
   "execution_count": 10,
   "id": "7f186951",
   "metadata": {},
   "outputs": [
    {
     "data": {
      "text/plain": [
       "'68 65 6c 6c 6f 20 77 6f 72 6c 64'"
      ]
     },
     "execution_count": 10,
     "metadata": {},
     "output_type": "execute_result"
    }
   ],
   "source": [
    "def convert_to_hex(text):\n",
    "    res = []\n",
    "    for a in list(text):\n",
    "        res.append(str(hex(ord(a))).replace(\"0x\", \"\"))\n",
    "    return \" \".join(res)\n",
    "\n",
    "convert_to_hex(\"hello world\")"
   ]
  },
  {
   "cell_type": "markdown",
   "id": "11dbcf76",
   "metadata": {},
   "source": [
    "3. Someone has attempted to censor my strings by replacing every vowel\n",
    "with a *, l*k* th*s. Luckily, I&#39;ve been able to find the vowels that were\n",
    "removed."
   ]
  },
  {
   "cell_type": "code",
   "execution_count": 27,
   "id": "119e64b2",
   "metadata": {},
   "outputs": [
    {
     "data": {
      "text/plain": [
       "'Where did my vowels go?'"
      ]
     },
     "execution_count": 27,
     "metadata": {},
     "output_type": "execute_result"
    }
   ],
   "source": [
    "def uncensor(text, vowels):\n",
    "    text = text.replace(\"*\", \"%s\")\n",
    "    arr = list(vowels)\n",
    "    return text%tuple(arr)\n",
    "\n",
    "uncensor(\"Wh*r* d*d my v*w*ls g*?\", \"eeioeo\")"
   ]
  },
  {
   "cell_type": "markdown",
   "id": "2307dfe6",
   "metadata": {},
   "source": [
    "4. Write a function that takes an IP address and returns the domain name\n",
    "using PTR DNS records."
   ]
  },
  {
   "cell_type": "code",
   "execution_count": 40,
   "id": "0c7b487c",
   "metadata": {},
   "outputs": [
    {
     "data": {
      "text/plain": [
       "'dns.google'"
      ]
     },
     "execution_count": 40,
     "metadata": {},
     "output_type": "execute_result"
    }
   ],
   "source": [
    "import socket\n",
    "def get_domain(ip):\n",
    "    DNS_record = socket.gethostbyaddr(ip)\n",
    "    return DNS_record[0]\n",
    "        \n",
    "get_domain(\"8.8.8.8\")"
   ]
  },
  {
   "cell_type": "markdown",
   "id": "2bb027fa",
   "metadata": {},
   "source": [
    "5. Create a function that takes an integer n and returns the factorial of\n",
    "factorials. See below examples for a better understanding:\n",
    "Examples\n",
    "fact_of_fact(4) ➞ 288\n",
    "4! * 3! * 2! * 1! = 288"
   ]
  },
  {
   "cell_type": "code",
   "execution_count": 47,
   "id": "c0d1a462",
   "metadata": {},
   "outputs": [
    {
     "data": {
      "text/plain": [
       "288"
      ]
     },
     "execution_count": 47,
     "metadata": {},
     "output_type": "execute_result"
    }
   ],
   "source": [
    "def fact(n):\n",
    "    if n<1:\n",
    "        return 1\n",
    "    \n",
    "    return n*fact(n-1)\n",
    "\n",
    "def fact_of_fact(n):\n",
    "    if n<1:\n",
    "        return 1\n",
    "    \n",
    "    return fact_of_fact(n-1)*fact(n)\n",
    "\n",
    "fact_of_fact(4)"
   ]
  },
  {
   "cell_type": "code",
   "execution_count": null,
   "id": "c24f649f",
   "metadata": {},
   "outputs": [],
   "source": []
  }
 ],
 "metadata": {
  "kernelspec": {
   "display_name": "Python 3 (ipykernel)",
   "language": "python",
   "name": "python3"
  },
  "language_info": {
   "codemirror_mode": {
    "name": "ipython",
    "version": 3
   },
   "file_extension": ".py",
   "mimetype": "text/x-python",
   "name": "python",
   "nbconvert_exporter": "python",
   "pygments_lexer": "ipython3",
   "version": "3.9.12"
  }
 },
 "nbformat": 4,
 "nbformat_minor": 5
}

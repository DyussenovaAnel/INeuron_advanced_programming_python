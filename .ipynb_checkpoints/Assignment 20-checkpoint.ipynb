{
 "cells": [
  {
   "cell_type": "markdown",
   "id": "b8cd54b3",
   "metadata": {},
   "source": [
    "1. Create a function based on the input and output. Look at the examples,\n",
    "there is a pattern.\n",
    "Examples\n",
    "secret(\"p.one.two.three\") ➞ &quot;&lt;p class=&#39;one two three&#39;&gt;&lt;/p&gt;&quot;"
   ]
  },
  {
   "cell_type": "code",
   "execution_count": 4,
   "id": "387c916d",
   "metadata": {},
   "outputs": [
    {
     "data": {
      "text/plain": [
       "\"<p class = 'one two three'></p>\""
      ]
     },
     "execution_count": 4,
     "metadata": {},
     "output_type": "execute_result"
    }
   ],
   "source": [
    "def secret(txt):\n",
    "    arr = txt.split(\".\")\n",
    "    return \"<{0} class = '{1}'></{0}>\".format(arr[0], \" \".join(arr[1:]))\n",
    "\n",
    "secret(\"p.one.two.three\")"
   ]
  },
  {
   "cell_type": "markdown",
   "id": "634b3b02",
   "metadata": {},
   "source": [
    "2. Create a function which counts how many lone 1s appear in a given\n",
    "number. Lone means the number doesn't appear twice or more in a row.\n",
    "Examples\n",
    "count_lone_ones(101) ➞ 2"
   ]
  },
  {
   "cell_type": "code",
   "execution_count": 12,
   "id": "a960fbd3",
   "metadata": {},
   "outputs": [
    {
     "data": {
      "text/plain": [
       "0"
      ]
     },
     "execution_count": 12,
     "metadata": {},
     "output_type": "execute_result"
    }
   ],
   "source": [
    "def count_lone_ones(n):\n",
    "    arr = list(str(n))\n",
    "    prev_one = 0\n",
    "    count = 0\n",
    "    for i in range(0, len(arr)):\n",
    "        if arr[i] == \"1\":\n",
    "            prev_one += 1\n",
    "        else:\n",
    "            if prev_one == 1:\n",
    "                count+=1\n",
    "            prev_one = 0\n",
    "            \n",
    "    if prev_one == 1:\n",
    "        count+=1\n",
    "        \n",
    "    return count\n",
    "\n",
    "# count_lone_ones(101)\n",
    "# count_lone_ones(1191)\n",
    "# count_lone_ones(1111)\n",
    "count_lone_ones(462)"
   ]
  },
  {
   "cell_type": "markdown",
   "id": "f0fce803",
   "metadata": {},
   "source": [
    "3. Write a method that accepts two integer parameters rows and cols. The\n",
    "output is a 2d array of numbers displayed in column-major order, meaning the\n",
    "numbers shown increase sequentially down each column and wrap to the top\n",
    "of the next column to the right once the bottom of the current column is\n",
    "reached.\n",
    "Examples\n",
    "printGrid(3, 6) ➞ [\n",
    "[1, 4, 7, 10, 13, 16],\n",
    "[2, 5, 8, 11, 14, 17],\n",
    "[3, 6, 9, 12, 15, 18]\n",
    "]"
   ]
  },
  {
   "cell_type": "code",
   "execution_count": 14,
   "id": "9b116bbb",
   "metadata": {},
   "outputs": [
    {
     "data": {
      "text/plain": [
       "[[1, 4, 7, 10, 13, 16], [2, 5, 8, 11, 14, 17], [3, 6, 9, 12, 15, 18]]"
      ]
     },
     "execution_count": 14,
     "metadata": {},
     "output_type": "execute_result"
    }
   ],
   "source": [
    "def printGrid(row, col):\n",
    "    res = []\n",
    "    for i in range(0, row):\n",
    "        res.append([])\n",
    "    \n",
    "    for i in range(1, row*col+1, row):\n",
    "        for j in range(0, row):\n",
    "             res[j].append(j+i)\n",
    "    return res\n",
    "\n",
    "printGrid(3, 6) "
   ]
  },
  {
   "cell_type": "markdown",
   "id": "2108b3f5",
   "metadata": {},
   "source": [
    "4. Given a list of integers, return the smallest positive integer not present in\n",
    "the list.\n",
    "Here is a representative example. Consider the list:\n",
    "[-2, 6, 4, 5, 7, -1, 7, 1, 3, 6, 6, -2, 9, 10, 2, 2]\n",
    "After reordering, the list becomes:\n",
    "[-2, -2, -1, 1, 2, 2, 3, 4, 5, 6, 6, 6, 7, 7, 9, 10]\n",
    "from which we see that the smallest missing positive integer is 8.\n",
    "Examples\n",
    "min_miss_pos([-2, 6, 4, 5, 7, -1, 1, 3, 6, -2, 9, 10, 2, 2]) ➞ 8\n",
    "#After sorting, list becomes [-2, -2, -1, 1, 2, 2, 3, 4, 5, 6, 6, 7, 9, 10]\n",
    "#So the smallest missing positive integer is 8"
   ]
  },
  {
   "cell_type": "code",
   "execution_count": 37,
   "id": "7deeccbd",
   "metadata": {},
   "outputs": [
    {
     "data": {
      "text/plain": [
       "8"
      ]
     },
     "execution_count": 37,
     "metadata": {},
     "output_type": "execute_result"
    }
   ],
   "source": [
    "def min_miss_pos(arr):\n",
    "    arr.sort()\n",
    "    arr_s = set(arr)\n",
    "    res = set(range(1, arr[-1]+1)) - arr_s\n",
    "    res = max(res)\n",
    "    return res\n",
    "\n",
    "min_miss_pos([-2,  4, 5, 7, -1, 1, 3, -2, 9, 10, 2, 2]) "
   ]
  },
  {
   "cell_type": "markdown",
   "id": "4a24f86c",
   "metadata": {},
   "source": [
    "5. Google is launching a network of autonomous pizza delivery drones and\n",
    "wants you to create a flexible rewards system (Pizza Points™) that can be\n",
    "tweaked in the future. The rules are simple: if a customer has made at least N\n",
    "orders of at least Y price, they get a FREE pizza!\n",
    "Create a function that takes a dictionary of customers, a minimum number of\n",
    "orders and a minimum order price. Return a list of customers that are eligible\n",
    "for a free pizza.\n",
    "Examples\n",
    "\n",
    "customers = {\n",
    "\"Batman\": [22, 30, 11, 17, 15, 52, 27, 12],\n",
    "\"Spider-Man\": [5, 17, 30, 33, 40, 22, 26, 10, 11, 45]\n",
    "}\n",
    "pizza_points(customers, 5, 20) ➞ [\"Spider-Man\"]"
   ]
  },
  {
   "cell_type": "code",
   "execution_count": 43,
   "id": "6da4c218",
   "metadata": {},
   "outputs": [
    {
     "data": {
      "text/plain": [
       "[]"
      ]
     },
     "execution_count": 43,
     "metadata": {},
     "output_type": "execute_result"
    }
   ],
   "source": [
    "def pizza_points(customers, min_num, min_sum):\n",
    "    res = []\n",
    "    for k, v in customers.items():\n",
    "        if min_num <= sum(i >= min_sum for i in v):\n",
    "            res.append(k)\n",
    "    return res\n",
    "\n",
    "\n",
    "customers = {\n",
    "\"Batman\": [22, 30, 11, 17, 15, 52, 27, 12],\n",
    "\"Spider-Man\": [5, 17, 30, 33, 40, 22, 26, 10, 11, 45]\n",
    "}\n",
    "pizza_points(customers, 3, 100)"
   ]
  },
  {
   "cell_type": "code",
   "execution_count": null,
   "id": "c45ddba4",
   "metadata": {},
   "outputs": [],
   "source": []
  }
 ],
 "metadata": {
  "kernelspec": {
   "display_name": "Python 3 (ipykernel)",
   "language": "python",
   "name": "python3"
  },
  "language_info": {
   "codemirror_mode": {
    "name": "ipython",
    "version": 3
   },
   "file_extension": ".py",
   "mimetype": "text/x-python",
   "name": "python",
   "nbconvert_exporter": "python",
   "pygments_lexer": "ipython3",
   "version": "3.9.12"
  }
 },
 "nbformat": 4,
 "nbformat_minor": 5
}

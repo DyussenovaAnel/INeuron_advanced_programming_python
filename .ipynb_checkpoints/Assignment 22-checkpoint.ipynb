{
 "cells": [
  {
   "cell_type": "code",
   "execution_count": 15,
   "id": "acb90d8f",
   "metadata": {},
   "outputs": [],
   "source": [
    "class Smoothie:\n",
    "    def __init__(self, ingredients):\n",
    "        self.ingredients = ingredients\n",
    "    \n",
    "    def get_cost(self):\n",
    "        costs = {\n",
    "            \"Strawberries\": 1.50,\n",
    "            \"Banana\": 0.50,\n",
    "            \"Mango\": 2.50,\n",
    "            \"Blueberries\": 1.00,\n",
    "            \"Raspberries\": 1.00,\n",
    "            \"Apple\": 1.75,\n",
    "            \"Pineapple\": 3.50\n",
    "        }\n",
    "        res = 0\n",
    "        for ele in self.ingredients:\n",
    "            res += costs[ele]\n",
    "        return res\n",
    "        \n",
    "    def get_price(self):\n",
    "        return round(self.get_cost() + self.get_cost()*1.5, 2)\n",
    "    \n",
    "    def get_name(self):\n",
    "        d = {\"Raspberries\": \"Raspberry\", \"Strawberries\": \"Strawberry\", \"Blueberries\": \"Blueberry\"}\n",
    "        res = []\n",
    "        ingred = self.ingredients\n",
    "        ingred.sort()\n",
    "        for ele in ingred:\n",
    "            if ele in d.keys():\n",
    "                res.append(d[ele])\n",
    "            else:\n",
    "                res.append(ele)\n",
    "        \n",
    "        if len(ingred)>1:\n",
    "            res.append(\"Fusion\")\n",
    "        if len(ingred)==1:\n",
    "            res.append(\"Smoothie\")\n",
    "            \n",
    "        return \" \".join(res)"
   ]
  },
  {
   "cell_type": "code",
   "execution_count": 16,
   "id": "ba196fd5",
   "metadata": {},
   "outputs": [
    {
     "name": "stdout",
     "output_type": "stream",
     "text": [
      "['Banana']\n",
      "0.5\n",
      "1.25\n",
      "Banana Smoothie\n",
      "['Raspberries', 'Strawberries', 'Blueberries']\n",
      "3.5\n",
      "8.75\n",
      "Blueberry Raspberry Strawberry Fusion\n"
     ]
    }
   ],
   "source": [
    "s1 = Smoothie([\"Banana\"])\n",
    "print(s1.ingredients)\n",
    "print(s1.get_cost())\n",
    "print(s1.get_price())\n",
    "print(s1.get_name())\n",
    "s2 = Smoothie([\"Raspberries\", \"Strawberries\", \"Blueberries\"])\n",
    "print(s2.ingredients)\n",
    "print(s2.get_cost())\n",
    "print(s2.get_price())\n",
    "print(s2.get_name())"
   ]
  },
  {
   "cell_type": "code",
   "execution_count": 31,
   "id": "69ec80d4",
   "metadata": {},
   "outputs": [],
   "source": [
    "class Testpaper:\n",
    "    def __init__(self, subject, markscheme, pass_mark):\n",
    "        self.subject = subject\n",
    "        self.markscheme = markscheme\n",
    "        self.pass_mark = pass_mark\n",
    "        \n",
    "class Student:\n",
    "    def __init__(self):\n",
    "        self.tests_taken = \"No test taken!\"\n",
    "        \n",
    "    def take_test(self, paper, answers):\n",
    "        markschemee = paper.markscheme\n",
    "        count = 0\n",
    "        for answer in answers:\n",
    "            if answer in markschemee:\n",
    "                count+=1\n",
    "        \n",
    "        res = round(count/len(answers)*100)\n",
    "        pass_mark = paper.pass_mark\n",
    "        pass_mark = int(pass_mark.replace(\"%\", \"\"))\n",
    "        result = \"\"\n",
    "        if res >= pass_mark:\n",
    "            result += \"Passed! (\" + str(res) + \"%)\"\n",
    "        else:\n",
    "            result += \"Failed! (\" +  str(res) + \"%)\"\n",
    "        if self.tests_taken == \"No test taken!\":\n",
    "            self.tests_taken = {}\n",
    "        self.tests_taken[paper.subject] = result"
   ]
  },
  {
   "cell_type": "code",
   "execution_count": 32,
   "id": "560fa741",
   "metadata": {},
   "outputs": [
    {
     "name": "stdout",
     "output_type": "stream",
     "text": [
      "No test taken!\n",
      "{'Maths': 'Passed! (80%)'}\n",
      "{'Chemistry': 'Failed! (25%)', 'Computing': 'Failed! (43%)'}\n"
     ]
    }
   ],
   "source": [
    "paper1 = Testpaper(\"Maths\", [\"1A\", \"2C\", \"3D\", \"4A\", \"5A\"], \"60%\")\n",
    "paper2 = Testpaper(\"Chemistry\", [\"1C\", \"2C\", \"3D\", \"4A\"], \"75%\")\n",
    "paper3 = Testpaper(\"Computing\", [\"1D\", \"2C\", \"3C\", \"4B\", \"5D\", \"6C\", \"7A\"],\"75%\")\n",
    "student1 = Student()\n",
    "student2 = Student()\n",
    "print(student1.tests_taken)\n",
    "student1.take_test(paper1, [\"1A\", \"2D\", \"3D\", \"4A\", \"5A\"])\n",
    "print(student1.tests_taken)\n",
    "student2.take_test(paper2, [\"1C\", \"2D\", \"3A\", \"4C\"])\n",
    "student2.take_test(paper3, [\"1A\", \"2C\", \"3A\", \"4C\", \"5D\", \"6C\", \"7B\"])\n",
    "print(student2.tests_taken)\n"
   ]
  },
  {
   "cell_type": "code",
   "execution_count": 48,
   "id": "9c254790",
   "metadata": {},
   "outputs": [],
   "source": [
    "class Train:\n",
    "    def __init__(self, schema, time):\n",
    "        self.schema = schema\n",
    "        self.time = time\n",
    "        \n",
    "def manage_delays(train, destination, delay):\n",
    "    if train.schema[-1] == destination:\n",
    "        time = train.time \n",
    "        time_minutes = int(time.split(\":\")[1])\n",
    "        time_minutes = time_minutes + delay\n",
    "        time_h = time_minutes//60\n",
    "        time_minutes = time_minutes - (time_minutes//60 * 60)\n",
    "        time_h = int(time.split(\":\")[0]) +time_h \n",
    "        res = str(time_h) + \":\" + str(time_minutes)\n",
    "        train.time = res\n",
    "    "
   ]
  },
  {
   "cell_type": "code",
   "execution_count": 49,
   "id": "97db408b",
   "metadata": {},
   "outputs": [
    {
     "name": "stdout",
     "output_type": "stream",
     "text": [
      "13:04\n",
      "14:20\n",
      "14:22\n"
     ]
    }
   ],
   "source": [
    "trains = [\n",
    "Train([\"Townsville\", \"Suburbia\", \"Urbantska\"], \"13:04\"),\n",
    "Train([\"Farmsdale\", \"Suburbia\", \"Lakeside Valley\"], \"13:20\"),\n",
    "Train([\"Suburbia\", \"Townsville\", \"Lakeside Valley\"], \"13:22\")\n",
    "]\n",
    "for t in trains:\n",
    "    manage_delays(t, \"Lakeside Valley\", 60)\n",
    "print(trains[0].time)\n",
    "print(trains[1].time)\n",
    "print(trains[2].time)\n"
   ]
  },
  {
   "cell_type": "code",
   "execution_count": 61,
   "id": "bc0fb421",
   "metadata": {},
   "outputs": [],
   "source": [
    "def mine_run(arr):\n",
    "    d = {\n",
    "        \"-->\": 2.67, \n",
    "        \"<-->\": 0,\n",
    "        \"<--\": -2.67,\n",
    "        \"---\": -1\n",
    "    }\n",
    "    \n",
    "    speed = 0\n",
    "    for a in arr:\n",
    "        speed += d[a]\n",
    "        print(speed)\n",
    "        if speed<=0 or speed>8:\n",
    "            return arr.index(a)\n",
    "    return True \n",
    "    "
   ]
  },
  {
   "cell_type": "code",
   "execution_count": 60,
   "id": "09e85cde",
   "metadata": {},
   "outputs": [
    {
     "name": "stdout",
     "output_type": "stream",
     "text": [
      "2.67\n",
      "5.34\n",
      "8.01\n"
     ]
    },
    {
     "data": {
      "text/plain": [
       "0"
      ]
     },
     "execution_count": 60,
     "metadata": {},
     "output_type": "execute_result"
    }
   ],
   "source": [
    "mine_run([\"-->\", \"-->\", \"-->\", \"<--\", \"<--\", \"<--\"])\n",
    "# mine_run([\"-->\", \"<--\", \"-->\", \"-->\", \"<-->\", \"---\"])"
   ]
  },
  {
   "cell_type": "code",
   "execution_count": 83,
   "id": "4a9f3263",
   "metadata": {},
   "outputs": [],
   "source": [
    "class Rectangle:\n",
    "    def __init__(self, x, y, w, h):\n",
    "        self.x = x\n",
    "        self.y = y\n",
    "        self.w = w\n",
    "        self.h = h\n",
    "        \n",
    "def intersecting(a, b):\n",
    "    if (a.x<=b.x and (a.x+a.w)>=b.x) or (a.x<=(b.x+b.w) and (a.x+a.w)>=(b.x+b.w)):\n",
    "        if (a.y>=b.y and (a.y-a.h)<=b.y) or (a.y>=(b.y-b.h) and (a.y-a.h)<=(b.y-b.h)):\n",
    "            return True\n",
    "    return False"
   ]
  },
  {
   "cell_type": "code",
   "execution_count": 84,
   "id": "05d0c12c",
   "metadata": {},
   "outputs": [
    {
     "name": "stdout",
     "output_type": "stream",
     "text": [
      "True\n",
      "True\n",
      "False\n"
     ]
    }
   ],
   "source": [
    "a = Rectangle(10, 20, 100, 20)\n",
    "b = Rectangle(10, 40, 15, 20)\n",
    "c = Rectangle(50, 50, 20, 30)\n",
    "print(intersecting(a, b))\n",
    "print(intersecting(a, c))\n",
    "print(intersecting(b, c))"
   ]
  },
  {
   "cell_type": "code",
   "execution_count": null,
   "id": "eca9ff06",
   "metadata": {},
   "outputs": [],
   "source": []
  }
 ],
 "metadata": {
  "kernelspec": {
   "display_name": "Python 3 (ipykernel)",
   "language": "python",
   "name": "python3"
  },
  "language_info": {
   "codemirror_mode": {
    "name": "ipython",
    "version": 3
   },
   "file_extension": ".py",
   "mimetype": "text/x-python",
   "name": "python",
   "nbconvert_exporter": "python",
   "pygments_lexer": "ipython3",
   "version": "3.9.12"
  }
 },
 "nbformat": 4,
 "nbformat_minor": 5
}

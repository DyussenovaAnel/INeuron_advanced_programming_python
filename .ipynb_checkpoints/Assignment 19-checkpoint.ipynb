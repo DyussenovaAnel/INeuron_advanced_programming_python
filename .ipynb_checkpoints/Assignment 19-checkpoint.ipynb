{
 "cells": [
  {
   "cell_type": "markdown",
   "id": "7bd8f188",
   "metadata": {},
   "source": [
    "1. Create a checker board generator, which takes as inputs n and 2 elements\n",
    "to generate an n x n checkerboard with those two elements as alternating\n",
    "squares.\n",
    "Examples\n",
    "checker_board(2, 7, 6) ➞ [\n",
    "[7, 6],\n",
    "[6, 7]\n",
    "]"
   ]
  },
  {
   "cell_type": "code",
   "execution_count": 5,
   "id": "917adb8d",
   "metadata": {},
   "outputs": [
    {
     "data": {
      "text/plain": [
       "[['A', 'B', 'A'], ['B', 'A', 'B'], ['A', 'B', 'A']]"
      ]
     },
     "execution_count": 5,
     "metadata": {},
     "output_type": "execute_result"
    }
   ],
   "source": [
    "def checker_board(n, ele1, ele2):\n",
    "    res = []\n",
    "    ele = ele1\n",
    "    eled = ele2\n",
    "    first = ele1\n",
    "    second = ele2\n",
    "    for i in range(0, n):\n",
    "        res.append([])\n",
    "        for j in range(0, n):\n",
    "            res[i].append(ele)\n",
    "            temp  = ele\n",
    "            ele = eled\n",
    "            eled = temp \n",
    "            \n",
    "        temp_fs = first\n",
    "        first = second\n",
    "        second = temp_fs \n",
    "        ele = first\n",
    "        eled = second\n",
    "    return res\n",
    "\n",
    "checker_board(3, \"A\", \"B\")"
   ]
  },
  {
   "cell_type": "markdown",
   "id": "5ea98ea5",
   "metadata": {},
   "source": [
    "2. A string is an almost-palindrome if, by changing only one character, you\n",
    "can make it a palindrome. Create a function that returns True if a string is an\n",
    "almost-palindrome and False otherwise.\n",
    "Examples\n",
    "almost_palindrome(\"abcdcbg\") ➞ True\n",
    "#Transformed to \"abcdcba\" by changing \"g\" to \"a\"."
   ]
  },
  {
   "cell_type": "code",
   "execution_count": 28,
   "id": "aaa8b36c",
   "metadata": {},
   "outputs": [
    {
     "data": {
      "text/plain": [
       "True"
      ]
     },
     "execution_count": 28,
     "metadata": {},
     "output_type": "execute_result"
    }
   ],
   "source": [
    "def almost_palindrome(txt):\n",
    "    mid = len(txt)//2\n",
    "    count = 0\n",
    "    if len(txt)%2 == 0:\n",
    "        a = txt[0:mid]\n",
    "        b = \"\".join(list(txt[mid: len(txt)])[::-1])\n",
    "    else:\n",
    "        a = txt[0:mid+1]\n",
    "        b = \"\".join(list(txt[mid: len(txt)])[::-1])\n",
    "\n",
    "    for i in range(0, mid+1):\n",
    "        if a[i] != b[i]:\n",
    "            count+=1\n",
    "            \n",
    "    if count==1:\n",
    "        return True\n",
    "    else:\n",
    "        return False\n",
    "            \n",
    "almost_palindrome(\"abcdcbg\")"
   ]
  },
  {
   "cell_type": "markdown",
   "id": "d18bb967",
   "metadata": {},
   "source": [
    "3. Create a function that finds how many prime numbers there are, up to the\n",
    "given integer.\n",
    "\n",
    "Examples\n",
    "prime_numbers(10) ➞ 4\n",
    "#2, 3, 5 and 7"
   ]
  },
  {
   "cell_type": "code",
   "execution_count": 30,
   "id": "8b87d9ec",
   "metadata": {},
   "outputs": [
    {
     "data": {
      "text/plain": [
       "[2, 3, 5, 7]"
      ]
     },
     "execution_count": 30,
     "metadata": {},
     "output_type": "execute_result"
    }
   ],
   "source": [
    "from math import sqrt\n",
    "def prime(n):\n",
    "    prime_flag = 0\n",
    "\n",
    "    if(n > 1):\n",
    "        for i in range(2, int(sqrt(n)) + 1):\n",
    "            if (n % i == 0):\n",
    "                prime_flag = 1\n",
    "                return False\n",
    "        return True\n",
    "    else:\n",
    "        return False\n",
    "    \n",
    "\n",
    "def prime_numbers(n):\n",
    "    res = []\n",
    "    for i in range(0, n):\n",
    "        if prime(i):\n",
    "            res.append(i)\n",
    "    return res\n",
    "\n",
    "prime_numbers(10)"
   ]
  },
  {
   "cell_type": "markdown",
   "id": "09e00892",
   "metadata": {},
   "source": [
    "4. If today was Monday, in two days, it would be Wednesday.\n",
    "Create a function that takes in a list of days as input and the number of days\n",
    "to increment by. Return a list of days after n number of days has passed.\n",
    "Examples\n",
    "after_n_days([\"Thursday\", \"Monday\"], 4) ➞ [\"Monday\", \"Friday\"]"
   ]
  },
  {
   "cell_type": "code",
   "execution_count": 48,
   "id": "72f7a23b",
   "metadata": {},
   "outputs": [
    {
     "data": {
      "text/plain": [
       "['Monday', 'Friday']"
      ]
     },
     "execution_count": 48,
     "metadata": {},
     "output_type": "execute_result"
    }
   ],
   "source": [
    "def after_n_days(arr, n):\n",
    "    d = {\n",
    "        \"Monday\":1,\n",
    "        \"Tuesday\":2,\n",
    "        \"Wednesday\":3,\n",
    "        \"Thursday\":4,\n",
    "        \"Friday\":5, \n",
    "        \"Saturday\":6,\n",
    "        \"Sunday\":7\n",
    "    }\n",
    "    res = []\n",
    "    for a in arr:\n",
    "        d_week = d[a] + n - 7*(n//7) \n",
    "        if d_week>7:\n",
    "            d_week -=7\n",
    "        \n",
    "        index = list(d.values()).index(d_week)\n",
    "        res.append(list(d.keys())[index])\n",
    "    return res\n",
    "        \n",
    "after_n_days([\"Thursday\", \"Monday\"], 4)"
   ]
  },
  {
   "cell_type": "markdown",
   "id": "2737b24e",
   "metadata": {},
   "source": [
    "5. You are in the process of creating a chat application and want to add an\n",
    "anonymous name feature. This anonymous name feature will create an alias\n",
    "that consists of two capitalized words beginning with the same letter as the\n",
    "users first name.\n",
    "Create a function that determines if the list of users is mapped to a list of\n",
    "anonymous names correctly.\n",
    "Examples\n",
    "is_correct_aliases([\"Adrian M.\", \"Harriet S.\", \"Mandy T.\"], [\"Amazing\n",
    "Artichoke\", \"Hopeful Hedgehog\", \"Marvelous Mouse\"]) ➞ True"
   ]
  },
  {
   "cell_type": "code",
   "execution_count": 54,
   "id": "3dbde9d4",
   "metadata": {},
   "outputs": [
    {
     "name": "stdout",
     "output_type": "stream",
     "text": [
      "a a a\n",
      "h h h\n",
      "m m m\n"
     ]
    },
    {
     "data": {
      "text/plain": [
       "True"
      ]
     },
     "execution_count": 54,
     "metadata": {},
     "output_type": "execute_result"
    }
   ],
   "source": [
    "def is_correct_aliases(users, names):\n",
    "    for i in range(0, len(users)):\n",
    "        name1 = names[i].split(\" \")[0]\n",
    "        name2 = names[i].split(\" \")[1]\n",
    "        if users[i][0].lower() != name1[0].lower()  or users[i][0].lower() != name2[0].lower():\n",
    "            return False\n",
    "    return True\n",
    "\n",
    "is_correct_aliases([\"Adrian M.\", \"Harriet S.\", \"Mandy T.\"], [\"Amazing Artichoke\", \"Hopeful Hedgehog\", \"Marvelous Mouse\"])"
   ]
  },
  {
   "cell_type": "code",
   "execution_count": null,
   "id": "7af52f00",
   "metadata": {},
   "outputs": [],
   "source": []
  }
 ],
 "metadata": {
  "kernelspec": {
   "display_name": "Python 3 (ipykernel)",
   "language": "python",
   "name": "python3"
  },
  "language_info": {
   "codemirror_mode": {
    "name": "ipython",
    "version": 3
   },
   "file_extension": ".py",
   "mimetype": "text/x-python",
   "name": "python",
   "nbconvert_exporter": "python",
   "pygments_lexer": "ipython3",
   "version": "3.9.12"
  }
 },
 "nbformat": 4,
 "nbformat_minor": 5
}

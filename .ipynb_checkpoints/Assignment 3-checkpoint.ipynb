{
 "cells": [
  {
   "cell_type": "markdown",
   "id": "a1b1be35",
   "metadata": {},
   "source": [
    "1. Create a function to perform basic arithmetic operations that includes\n",
    "addition, subtraction, multiplication and division on a string number (e.g. &quot;12 +\n",
    "24&quot; or &quot;23 - 21&quot; or &quot;12 // 12&quot; or &quot;12 * 21&quot;).\n",
    "Here, we have 1 followed by a space, operator followed by another space\n",
    "and 2. For the challenge, we are going to have only two numbers between 1\n",
    "valid operator. The return value should be a number.\n",
    "eval() is not allowed. In case of division, whenever the second number equals\n",
    "&quot;0&quot; return -1."
   ]
  },
  {
   "cell_type": "code",
   "execution_count": 5,
   "id": "ccb8e41f",
   "metadata": {},
   "outputs": [
    {
     "data": {
      "text/plain": [
       "-1"
      ]
     },
     "execution_count": 5,
     "metadata": {},
     "output_type": "execute_result"
    }
   ],
   "source": [
    "def srt_oper(text):\n",
    "    arr = text.split(\" \")\n",
    "    if arr[1] == \"+\":\n",
    "        return int(arr[0]) + int(arr[2])\n",
    "    if arr[1] == \"-\":\n",
    "        return int(arr[0]) - int(arr[2])\n",
    "    if arr[1] == \"//\":\n",
    "        if int(arr[2]) == 0:\n",
    "            return -1\n",
    "        else:\n",
    "            return int(arr[0]) // int(arr[2])\n",
    "    if arr[1] == \"*\":\n",
    "        return int(arr[0]) * int(arr[2])\n",
    "\n",
    "srt_oper(\"15 // 0\")"
   ]
  },
  {
   "cell_type": "markdown",
   "id": "bf928958",
   "metadata": {},
   "source": [
    "2. Write a function that takes the coordinates of three points in the form of a\n",
    "2d array and returns the perimeter of the triangle. The given points are the\n",
    "vertices of a triangle on a two-dimensional plane."
   ]
  },
  {
   "cell_type": "code",
   "execution_count": 13,
   "id": "4b450969",
   "metadata": {},
   "outputs": [
    {
     "data": {
      "text/plain": [
       "47.07918859608948"
      ]
     },
     "execution_count": 13,
     "metadata": {},
     "output_type": "execute_result"
    }
   ],
   "source": [
    "import math\n",
    "\n",
    "def perimeter(arr):\n",
    "    a = math.sqrt((arr[0][0]-arr[1][0])**2+(arr[0][1]-arr[1][1])**2)\n",
    "    b = math.sqrt((arr[1][0]-arr[2][0])**2+(arr[1][1]-arr[2][1])**2)\n",
    "    c = math.sqrt((arr[0][0]-arr[2][0])**2+(arr[2][1]-arr[0][1])**2)\n",
    "\n",
    "    return a+b+c\n",
    "\n",
    "perimeter( [ [15, 7], [5, 22], [11, 1] ] )"
   ]
  },
  {
   "cell_type": "markdown",
   "id": "b25428a4",
   "metadata": {},
   "source": [
    "3. A city skyline can be represented as a 2-D list with 1s representing\n",
    "buildings. In the example below, the height of the tallest building is 4 (second-\n",
    "most right column)."
   ]
  },
  {
   "cell_type": "code",
   "execution_count": 17,
   "id": "266d71a4",
   "metadata": {},
   "outputs": [
    {
     "data": {
      "text/plain": [
       "2"
      ]
     },
     "execution_count": 17,
     "metadata": {},
     "output_type": "execute_result"
    }
   ],
   "source": [
    "def tallest_skyscraper(arr):\n",
    "    for i in range(0, len(arr)):\n",
    "        if 1 in arr[i]:\n",
    "            return len(arr) - i\n",
    "        \n",
    "tallest_skyscraper([\n",
    "[0, 0, 0, 0],\n",
    "[0, 0, 0, 0],\n",
    "[1, 1, 1, 0],\n",
    "[1, 1, 1, 1]\n",
    "])"
   ]
  },
  {
   "cell_type": "markdown",
   "id": "be886c2c",
   "metadata": {},
   "source": [
    "4. A financial institution provides professional services to banks and claims\n",
    "charges from the customers based on the number of man-days provided.\n",
    "Internally, it has set a scheme to motivate and reward staff to meet and\n",
    "exceed targeted billable utilization and revenues by paying a bonus for each\n",
    "day claimed from customers in excess of a threshold target.\n",
    "This quarterly scheme is calculated with a threshold target of 32 days per\n",
    "quarter, and the incentive payment for each billable day in excess of such\n",
    "threshold target is shown as follows:"
   ]
  },
  {
   "cell_type": "code",
   "execution_count": 22,
   "id": "0be7f076",
   "metadata": {},
   "outputs": [
    {
     "data": {
      "text/plain": [
       "5350"
      ]
     },
     "execution_count": 22,
     "metadata": {},
     "output_type": "execute_result"
    }
   ],
   "source": [
    "def bonus(num):\n",
    "    res = 0\n",
    "    if num - 32>0:\n",
    "        res += 32*0\n",
    "        num = num-32\n",
    "        if num - 8 > 0:\n",
    "            res += 8*325\n",
    "            num = num-8\n",
    "            if num - 8 > 0:\n",
    "                res += 8*550\n",
    "                num = num-8\n",
    "            else:\n",
    "                res += num*550\n",
    "                return res\n",
    "        else:\n",
    "            res += num*325\n",
    "            return res\n",
    "    else:\n",
    "        return res\n",
    "    \n",
    "    res += num*600\n",
    "    return res\n",
    "        \n",
    "bonus(45)     "
   ]
  },
  {
   "cell_type": "markdown",
   "id": "505014b4",
   "metadata": {},
   "source": [
    "5. A number is said to be Disarium if the sum of its digits raised to their\n",
    "respective positions is the number itself.\n",
    "Create a function that determines whether a number is a Disarium or not."
   ]
  },
  {
   "cell_type": "code",
   "execution_count": 27,
   "id": "e32268d0",
   "metadata": {},
   "outputs": [
    {
     "data": {
      "text/plain": [
       "False"
      ]
     },
     "execution_count": 27,
     "metadata": {},
     "output_type": "execute_result"
    }
   ],
   "source": [
    "def is_disarium(num):\n",
    "    arr = list(str(num))\n",
    "    res = 0\n",
    "    for i in range(0, len(arr)):\n",
    "        res += int(arr[i])**(i+1)\n",
    "    return res==num\n",
    "\n",
    "is_disarium(75)"
   ]
  },
  {
   "cell_type": "code",
   "execution_count": null,
   "id": "a97d59e8",
   "metadata": {},
   "outputs": [],
   "source": []
  }
 ],
 "metadata": {
  "kernelspec": {
   "display_name": "Python 3 (ipykernel)",
   "language": "python",
   "name": "python3"
  },
  "language_info": {
   "codemirror_mode": {
    "name": "ipython",
    "version": 3
   },
   "file_extension": ".py",
   "mimetype": "text/x-python",
   "name": "python",
   "nbconvert_exporter": "python",
   "pygments_lexer": "ipython3",
   "version": "3.9.12"
  }
 },
 "nbformat": 4,
 "nbformat_minor": 5
}

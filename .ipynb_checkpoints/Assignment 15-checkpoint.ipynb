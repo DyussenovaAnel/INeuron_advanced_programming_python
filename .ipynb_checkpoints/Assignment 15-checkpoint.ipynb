{
 "cells": [
  {
   "cell_type": "markdown",
   "id": "524665fd",
   "metadata": {},
   "source": [
    "1. Write a function that returns True if a given name can generate an array of\n",
    "words.\n",
    "Examples\n",
    "anagram(\"Justin Bieber\", [\"injures\", \"ebb\", \"it\"]) ➞ True"
   ]
  },
  {
   "cell_type": "code",
   "execution_count": 7,
   "id": "e35649fe",
   "metadata": {},
   "outputs": [
    {
     "name": "stdout",
     "output_type": "stream",
     "text": [
      "['j', 'u', 's', 't', 'i', 'n', 'b', 'i', 'e', 'b', 'e', 'r'] ['i', 'n', 'j', 'u', 'r', 'e', 's', 'e', 'b', 'b', 'i', 't']\n"
     ]
    },
    {
     "data": {
      "text/plain": [
       "True"
      ]
     },
     "execution_count": 7,
     "metadata": {},
     "output_type": "execute_result"
    }
   ],
   "source": [
    "def anagram(word, arr):\n",
    "    word = word.replace(\" \", \"\")\n",
    "    word = word.lower()\n",
    "    w_arr = list(word)\n",
    "    arr = list(\"\".join(arr))\n",
    "    for val in arr:\n",
    "        if val not in w_arr:\n",
    "            return False\n",
    "    return True\n",
    "    \n",
    "anagram(\"Justin Bieber\", [\"injures\", \"ebb\", \"it\"])"
   ]
  },
  {
   "cell_type": "markdown",
   "id": "87daadda",
   "metadata": {},
   "source": [
    "2. Given an array of users, each defined by an object with the following\n",
    "properties: name, score, reputation create a function that sorts the array to\n",
    "form the correct leaderboard.\n",
    "The leaderboard takes into consideration the score of each user of course,\n",
    "but an emphasis is put on their reputation in the community, so to get the\n",
    "trueScore, you should add the reputation multiplied by 2 to the score.\n",
    "Once you know the trueScore of each user, sort the array according to it in\n",
    "descending order.\n",
    "Examples\n",
    "leaderboards([\n",
    "{ \"name\": \"a\", \"score\": 100, \"reputation\": 20 },\n",
    "{ \"name\": \"b\", \"score\": 90, \"reputation\": 40 },\n",
    "{ \"name\": \"c\", \"score\": 115, \"reputation\": 30 },\n",
    "]) ➞ [\n",
    "{ \"name\": \"c\", \"score\": 115, \"reputation\": 30 }, # trueScore = 175\n",
    "{ \"name\": \"b\", \"score\": 90, \"reputation\": 40 }, # trueScore = 170\n",
    "{ \"name\": \"a\", \"score\": 100, \"reputation\": 20 } # trueScore = 140\n",
    "]"
   ]
  },
  {
   "cell_type": "code",
   "execution_count": 42,
   "id": "f47555a9",
   "metadata": {},
   "outputs": [
    {
     "data": {
      "text/plain": [
       "[{'name': 'c', 'score': 115, 'reputation': 30},\n",
       " {'name': 'b', 'score': 90, 'reputation': 40},\n",
       " {'name': 'a', 'score': 100, 'reputation': 20}]"
      ]
     },
     "execution_count": 42,
     "metadata": {},
     "output_type": "execute_result"
    }
   ],
   "source": [
    "def leaderboards(arr_d):\n",
    "    res = dict()\n",
    "    for d in arr_d:\n",
    "        trueScore = d[\"score\"] + d[\"reputation\"]*2\n",
    "        d[\"trueScore\"] = trueScore\n",
    "    \n",
    "    arr_d = sorted(arr_d, key=lambda x: x['trueScore'], reverse = True)\n",
    "    res_arr = []\n",
    "    for d in arr_d:\n",
    "        res_arr.append({\"name\":d[\"name\"], \"score\":d[\"score\"], \"reputation\":d[\"reputation\"]})\n",
    "    return res_arr\n",
    "\n",
    "leaderboards([\n",
    "{ \"name\": \"a\", \"score\": 100, \"reputation\": 20 },\n",
    "{ \"name\": \"b\", \"score\": 90, \"reputation\": 40 },\n",
    "{ \"name\": \"c\", \"score\": 115, \"reputation\": 30 },\n",
    "])  \n",
    "    "
   ]
  },
  {
   "cell_type": "markdown",
   "id": "a7853e4d",
   "metadata": {},
   "source": [
    "4. The Collatz sequence is as follows:\n",
    "- Start with some given integer n.\n",
    "- If it is even, the next number will be n divided by 2.\n",
    "- If it is odd, multiply it by 3 and add 1 to make the next number.\n",
    "- The sequence stops when it reaches 1.\n",
    "According to the Collatz conjecture, it will always reach 1. If that&#39;s true, you\n",
    "can construct a finite sequence following the aforementioned method for any\n",
    "given integer.\n",
    "Write a function that takes in an integer n and returns the highest integer in\n",
    "the corresponding Collatz sequence.\n",
    "Examples\n",
    "max_collatz(10) ➞ 16\n",
    "#Collatz sequence: 10, 5, 16, 8, 4, 2, 1\n",
    "\n"
   ]
  },
  {
   "cell_type": "code",
   "execution_count": 10,
   "id": "fd2e2ec6",
   "metadata": {},
   "outputs": [
    {
     "data": {
      "text/plain": [
       "[10, 5, 16, 8, 4, 2, 1]"
      ]
     },
     "execution_count": 10,
     "metadata": {},
     "output_type": "execute_result"
    }
   ],
   "source": [
    "def max_collatz_r(n, res):\n",
    "    if n == 1:\n",
    "        return res\n",
    "    if n%2==0:\n",
    "        n = n//2\n",
    "    else:\n",
    "        n = n*3 + 1\n",
    "    res.append(n)\n",
    "    return max_collatz_r(n, res)\n",
    "    \n",
    "\n",
    "def max_collatz(n):\n",
    "    return max_collatz_r(n, [n])\n",
    "\n",
    "max_collatz(10)"
   ]
  },
  {
   "cell_type": "markdown",
   "id": "4a698f27",
   "metadata": {},
   "source": [
    "5. Write a function that sorts a list of integers by their digit length in\n",
    "descending order, then settles ties by sorting numbers with the same digit\n",
    "length in ascending order.\n",
    "Examples\n",
    "digit_sort([77, 23, 5, 7, 101])\n",
    "➞ [101, 23, 77, 5, 7]"
   ]
  },
  {
   "cell_type": "code",
   "execution_count": 14,
   "id": "ca075052",
   "metadata": {},
   "outputs": [
    {
     "data": {
      "text/plain": [
       "[101, 23, 77, 5, 7]"
      ]
     },
     "execution_count": 14,
     "metadata": {},
     "output_type": "execute_result"
    }
   ],
   "source": [
    "def digit_sort(arr):\n",
    "    d = {}\n",
    "    for a in arr:\n",
    "        if len(str(a)) in d.keys():\n",
    "            d[len(str(a))].append(a)\n",
    "        else:\n",
    "            d[len(str(a))] = [a]\n",
    "    \n",
    "    d = dict(sorted(d.items(), reverse = True))\n",
    "\n",
    "    res = []\n",
    "    for k, v in d.items():\n",
    "        v.sort()\n",
    "        res =  res + v\n",
    "    return res\n",
    "\n",
    "digit_sort([77, 23, 5, 7, 101])"
   ]
  },
  {
   "cell_type": "code",
   "execution_count": null,
   "id": "ec850741",
   "metadata": {},
   "outputs": [],
   "source": []
  }
 ],
 "metadata": {
  "kernelspec": {
   "display_name": "Python 3 (ipykernel)",
   "language": "python",
   "name": "python3"
  },
  "language_info": {
   "codemirror_mode": {
    "name": "ipython",
    "version": 3
   },
   "file_extension": ".py",
   "mimetype": "text/x-python",
   "name": "python",
   "nbconvert_exporter": "python",
   "pygments_lexer": "ipython3",
   "version": "3.9.12"
  }
 },
 "nbformat": 4,
 "nbformat_minor": 5
}

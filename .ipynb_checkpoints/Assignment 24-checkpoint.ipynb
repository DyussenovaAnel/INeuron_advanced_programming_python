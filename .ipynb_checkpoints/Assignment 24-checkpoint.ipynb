{
 "cells": [
  {
   "cell_type": "code",
   "execution_count": 45,
   "id": "580c06a6",
   "metadata": {},
   "outputs": [],
   "source": [
    "class NestedIterator:\n",
    "    def __init__(self, arr):\n",
    "        flat_list = []\n",
    "        for sublist in arr:\n",
    "            if type(sublist) == list:\n",
    "                for item in sublist:\n",
    "                    flat_list.append(item)\n",
    "            else:\n",
    "                flat_list.append(sublist)\n",
    "        self.arr = flat_list\n",
    "        self.index = 0\n",
    "        \n",
    "    def __iter__(self):\n",
    "        return self\n",
    "\n",
    "    def next(self):\n",
    "        try:\n",
    "            result = self.arr[self.index]\n",
    "        except IndexError:\n",
    "            raise StopIteration\n",
    "        self.index += 1\n",
    "        return result\n",
    "    \n",
    "    def hasNext(self):\n",
    "        return self.index < len(self.arr)"
   ]
  },
  {
   "cell_type": "code",
   "execution_count": 46,
   "id": "0d439939",
   "metadata": {},
   "outputs": [
    {
     "data": {
      "text/plain": [
       "[1, 1, 2, 1, 1]"
      ]
     },
     "execution_count": 46,
     "metadata": {},
     "output_type": "execute_result"
    }
   ],
   "source": [
    "ni, actual = NestedIterator([[1, 1], 2, [1, 1]]), []\n",
    "ni.arr\n",
    "while ni.hasNext():\n",
    "    actual.append(ni.next())\n",
    "actual"
   ]
  },
  {
   "cell_type": "code",
   "execution_count": null,
   "id": "b83d59e2",
   "metadata": {},
   "outputs": [],
   "source": [
    "class Shape:\n",
    "    def __init__(self, ):"
   ]
  },
  {
   "cell_type": "code",
   "execution_count": 53,
   "id": "896ee777",
   "metadata": {},
   "outputs": [],
   "source": [
    "def tic_tac_toe(matrix):\n",
    "    for i in range(0, 3):\n",
    "        if matrix[i][0] == matrix[i][1] == matrix[i][2]:\n",
    "            return matrix[i][0]\n",
    "        if matrix[0][i] == matrix[1][i] == matrix[2][i]:\n",
    "            return matrix[0][i]\n",
    "    if matrix[0][0] == matrix[1][1] == matrix[2][2]:\n",
    "        return matrix[0][0]\n",
    "    if matrix[0][2] == matrix[1][1] == matrix[2][0]:\n",
    "        return matrix[0][2]\n",
    "    \n",
    "    return \"Draw\""
   ]
  },
  {
   "cell_type": "code",
   "execution_count": 54,
   "id": "0b295138",
   "metadata": {},
   "outputs": [
    {
     "data": {
      "text/plain": [
       "'Draw'"
      ]
     },
     "execution_count": 54,
     "metadata": {},
     "output_type": "execute_result"
    }
   ],
   "source": [
    "tic_tac_toe([\n",
    "[\"X\", \"X\", \"O\"],\n",
    "[\"O\", \"O\", \"X\"],\n",
    "[\"X\", \"X\", \"O\"]\n",
    "])\n"
   ]
  },
  {
   "cell_type": "code",
   "execution_count": 133,
   "id": "5520357c",
   "metadata": {},
   "outputs": [],
   "source": [
    "import numpy as np\n",
    "import pandas as pd\n",
    "\n",
    "\n",
    "def remove_virus(txt):\n",
    "    txt = txt.split(':')[1]\n",
    "    txt = txt.replace(\" \", \"\")\n",
    "    txt_arr = txt.split(\",\")\n",
    "    viruses = np.array(txt_arr)\n",
    "    viruses = viruses[pd.Series(viruses).str.contains('.exe')]\n",
    "    temp = []\n",
    "    for v in viruses:\n",
    "        if 'virus'in v or 'malware' in v:\n",
    "            if \"anti\" in v or \"not\" in v:\n",
    "                pass\n",
    "            else:\n",
    "                temp.append(v)\n",
    "    \n",
    "    return set(txt_arr) - set(temp)"
   ]
  },
  {
   "cell_type": "code",
   "execution_count": 134,
   "id": "bec7fa2d",
   "metadata": {},
   "outputs": [
    {
     "name": "stdout",
     "output_type": "stream",
     "text": [
      "True True\n"
     ]
    },
    {
     "data": {
      "text/plain": [
       "{'dog.jpg', 'spotifysetup.exe'}"
      ]
     },
     "execution_count": 134,
     "metadata": {},
     "output_type": "execute_result"
    }
   ],
   "source": [
    "remove_virus(\"PC Files: spotifysetup.exe, virus.exe, dog.jpg\")"
   ]
  },
  {
   "cell_type": "code",
   "execution_count": 135,
   "id": "d5d57f8a",
   "metadata": {},
   "outputs": [
    {
     "name": "stdout",
     "output_type": "stream",
     "text": [
      "False True\n",
      "True True\n",
      "True True\n"
     ]
    },
    {
     "data": {
      "text/plain": [
       "{'antivirus.exe', 'cat.pdf'}"
      ]
     },
     "execution_count": 135,
     "metadata": {},
     "output_type": "execute_result"
    }
   ],
   "source": [
    "remove_virus(\"PC Files: antivirus.exe, cat.pdf, lethalmalware.exe,dangerousvirus.exe \")"
   ]
  },
  {
   "cell_type": "code",
   "execution_count": 136,
   "id": "6359c969",
   "metadata": {},
   "outputs": [
    {
     "name": "stdout",
     "output_type": "stream",
     "text": [
      "True False\n"
     ]
    },
    {
     "data": {
      "text/plain": [
       "{'funnycat.gif', 'notvirus.exe'}"
      ]
     },
     "execution_count": 136,
     "metadata": {},
     "output_type": "execute_result"
    }
   ],
   "source": [
    "remove_virus(\"PC Files: notvirus.exe, funnycat.gif\")"
   ]
  },
  {
   "cell_type": "code",
   "execution_count": 147,
   "id": "d4fcf2e9",
   "metadata": {},
   "outputs": [],
   "source": [
    "def will_hit(func, x_y):\n",
    "    func_arr = func.split(\" \")\n",
    "    temp = int(func_arr[2].replace(\"x\", \"\"))*x_y[0]\n",
    "    if func_arr[3] == \"-\":\n",
    "        y_ = temp-int(func_arr[4])\n",
    "    if func_arr[3] == \"+\":\n",
    "        y_ = temp+int(func_arr[4])\n",
    "    if func_arr[3] == \"*\":\n",
    "        y_ = temp*int(func_arr[4])\n",
    "    if func_arr[3] == \"/\":\n",
    "        y_ = temp/int(func_arr[4])\n",
    "    return y_==x_y[1]"
   ]
  },
  {
   "cell_type": "code",
   "execution_count": 148,
   "id": "04c0a3f9",
   "metadata": {},
   "outputs": [
    {
     "data": {
      "text/plain": [
       "False"
      ]
     },
     "execution_count": 148,
     "metadata": {},
     "output_type": "execute_result"
    }
   ],
   "source": [
    "will_hit(\"y = 2x - 5\", (0, 0))"
   ]
  },
  {
   "cell_type": "code",
   "execution_count": 149,
   "id": "95d562a6",
   "metadata": {},
   "outputs": [
    {
     "data": {
      "text/plain": [
       "True"
      ]
     },
     "execution_count": 149,
     "metadata": {},
     "output_type": "execute_result"
    }
   ],
   "source": [
    "will_hit(\"y = -4x + 6\", (1, 2))"
   ]
  },
  {
   "cell_type": "code",
   "execution_count": 150,
   "id": "1d6d2c95",
   "metadata": {},
   "outputs": [
    {
     "data": {
      "text/plain": [
       "False"
      ]
     },
     "execution_count": 150,
     "metadata": {},
     "output_type": "execute_result"
    }
   ],
   "source": [
    "will_hit(\"y = 2x + 6\", (3, 2))"
   ]
  },
  {
   "cell_type": "code",
   "execution_count": null,
   "id": "837e500a",
   "metadata": {},
   "outputs": [],
   "source": []
  }
 ],
 "metadata": {
  "kernelspec": {
   "display_name": "Python 3 (ipykernel)",
   "language": "python",
   "name": "python3"
  },
  "language_info": {
   "codemirror_mode": {
    "name": "ipython",
    "version": 3
   },
   "file_extension": ".py",
   "mimetype": "text/x-python",
   "name": "python",
   "nbconvert_exporter": "python",
   "pygments_lexer": "ipython3",
   "version": "3.9.12"
  }
 },
 "nbformat": 4,
 "nbformat_minor": 5
}

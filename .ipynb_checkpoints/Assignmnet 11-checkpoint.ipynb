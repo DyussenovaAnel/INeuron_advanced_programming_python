{
 "cells": [
  {
   "cell_type": "code",
   "execution_count": null,
   "id": "78cb1cc4",
   "metadata": {},
   "outputs": [],
   "source": [
    "1. Create a function that takes a list and returns a new list containing only\n",
    "prime numbers.\n",
    "Examples\n",
    "filter_primes([7, 9, 3, 9, 10, 11, 27]) ➞ [7, 3, 11]"
   ]
  },
  {
   "cell_type": "code",
   "execution_count": 2,
   "id": "18044ae1",
   "metadata": {},
   "outputs": [
    {
     "data": {
      "text/plain": [
       "[7, 3, 11]"
      ]
     },
     "execution_count": 2,
     "metadata": {},
     "output_type": "execute_result"
    }
   ],
   "source": [
    "from math import sqrt\n",
    "def filter_primes(arr):\n",
    "    res = []\n",
    "    for a in arr:\n",
    "        if prime(a):\n",
    "            res.append(a)\n",
    "    return res\n",
    "    \n",
    "def prime(n):\n",
    "    prime_flag = 0\n",
    "\n",
    "    if(n > 1):\n",
    "        for i in range(2, int(sqrt(n)) + 1):\n",
    "            if (n % i == 0):\n",
    "                prime_flag = 1\n",
    "                return False\n",
    "        return True\n",
    "    else:\n",
    "        return False\n",
    "    \n",
    "filter_primes([7, 9, 3, 9, 10, 11, 27])"
   ]
  },
  {
   "cell_type": "markdown",
   "id": "295bc90d",
   "metadata": {},
   "source": [
    "2. Once a water balloon pops, is soaks the area around it. The ground gets\n",
    "drier the further away you travel from the balloon.\n",
    "The effect of a water balloon popping can be modeled using a list. Create a\n",
    "function that takes a list which takes the pre-pop state and returns the state\n",
    "after the balloon is popped. The pre-pop state will contain at most a single\n",
    "balloon, whose size is represented by the only non-zero element.\n",
    "Examples\n",
    "pop([0, 0, 0, 0, 4, 0, 0, 0, 0]) ➞ [0, 1, 2, 3, 4, 3, 2, 1, 0]"
   ]
  },
  {
   "cell_type": "code",
   "execution_count": 11,
   "id": "d837a14f",
   "metadata": {},
   "outputs": [
    {
     "data": {
      "text/plain": [
       "[0]"
      ]
     },
     "execution_count": 11,
     "metadata": {},
     "output_type": "execute_result"
    }
   ],
   "source": [
    "def pop(arr):\n",
    "    i = arr.index(max(arr))\n",
    "    x = 1\n",
    "    v = i-max(arr)+1\n",
    "    for j in range(v, i):\n",
    "        arr[j] = x\n",
    "        arr[i+j] = max(arr) - x\n",
    "        x+=1\n",
    "    return arr\n",
    "\n",
    "pop([0])"
   ]
  },
  {
   "cell_type": "markdown",
   "id": "8cab3a1e",
   "metadata": {},
   "source": [
    "3. \"Loves me, loves me not\" is a traditional game in which a person plucks off\n",
    "all the petals of a flower one by one, saying the phrase \"Loves me\" and\n",
    "\"Loves me not\" when determining whether the one that they love, loves them\n",
    "back.\n",
    "Given a number of petals, return a string which repeats the phrases \"Loves\n",
    "me\" and \"Loves me not\" for every alternating petal, and return the last phrase\n",
    "in all caps. Remember to put a comma and space between phrases.\n",
    "Examples\n",
    "loves_me(3) ➞ \"Loves me, Loves me not, LOVES ME\"\n"
   ]
  },
  {
   "cell_type": "code",
   "execution_count": 16,
   "id": "9dfefc4e",
   "metadata": {},
   "outputs": [
    {
     "data": {
      "text/plain": [
       "'Loves me, Loves me not, LOVES ME'"
      ]
     },
     "execution_count": 16,
     "metadata": {},
     "output_type": "execute_result"
    }
   ],
   "source": [
    "def loves_me(n):\n",
    "    res = [\"Loves me not\" if i%2==0 else \"Loves me\" for i in range(1, n+1)]\n",
    "    res[-1] = res[-1].upper()\n",
    "    return \", \".join(res)\n",
    "\n",
    "loves_me(3)"
   ]
  },
  {
   "cell_type": "markdown",
   "id": "4550ec16",
   "metadata": {},
   "source": [
    "4. Write a function that sorts each string in a list by the letter in alphabetic\n",
    "ascending order (a-z).\n",
    "Examples\n",
    "sort_by_letter([\"932c\", \"832u32\", \"2344b\"])\n",
    "➞ [\"2344b\", \"932c\", \"832u32\"]\n"
   ]
  },
  {
   "cell_type": "code",
   "execution_count": 21,
   "id": "87691965",
   "metadata": {},
   "outputs": [
    {
     "data": {
      "text/plain": [
       "['2344b', '932c', '832u32']"
      ]
     },
     "execution_count": 21,
     "metadata": {},
     "output_type": "execute_result"
    }
   ],
   "source": [
    "def sort_by_letter(arr):\n",
    "    d = {}\n",
    "    for a in arr:\n",
    "        key = ''.join(i for i in a if not i.isdigit())\n",
    "        if key in d.keys():\n",
    "            temp_count = 0\n",
    "            for k in d.keys():\n",
    "                if key in k:\n",
    "                    temp_count+=1\n",
    "            d[key+str(temp_count)] = a\n",
    "        else:\n",
    "            d[key] = a\n",
    "    res = []\n",
    "    for key in sorted(d):\n",
    "        res.append(d[key])\n",
    "    return res\n",
    "    \n",
    "sort_by_letter([\"932c\", \"832u32\", \"2344b\"])"
   ]
  },
  {
   "cell_type": "markdown",
   "id": "59df53ab",
   "metadata": {},
   "source": [
    "5. There are three cups on a table, at positions A, B, and C. At the start, there\n",
    "is a ball hidden under the cup at position B."
   ]
  },
  {
   "cell_type": "code",
   "execution_count": 28,
   "id": "687fb3e4",
   "metadata": {},
   "outputs": [
    {
     "data": {
      "text/plain": [
       "'C'"
      ]
     },
     "execution_count": 28,
     "metadata": {},
     "output_type": "execute_result"
    }
   ],
   "source": [
    "def cup_swapping(arr):\n",
    "    position = \"B\"\n",
    "    for a in arr:\n",
    "        if position in a:\n",
    "            for ele in list(a):\n",
    "                if position!=ele:\n",
    "                    position=ele\n",
    "                    break;\n",
    "    return position\n",
    "\n",
    "cup_swapping([\"AB\", \"CA\", \"AB\"])"
   ]
  },
  {
   "cell_type": "code",
   "execution_count": null,
   "id": "3bd4744f",
   "metadata": {},
   "outputs": [],
   "source": []
  }
 ],
 "metadata": {
  "kernelspec": {
   "display_name": "Python 3 (ipykernel)",
   "language": "python",
   "name": "python3"
  },
  "language_info": {
   "codemirror_mode": {
    "name": "ipython",
    "version": 3
   },
   "file_extension": ".py",
   "mimetype": "text/x-python",
   "name": "python",
   "nbconvert_exporter": "python",
   "pygments_lexer": "ipython3",
   "version": "3.9.12"
  }
 },
 "nbformat": 4,
 "nbformat_minor": 5
}

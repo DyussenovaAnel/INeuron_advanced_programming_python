{
 "cells": [
  {
   "cell_type": "code",
   "execution_count": 18,
   "id": "552df61a",
   "metadata": {},
   "outputs": [],
   "source": [
    "class Sudoku:\n",
    "    def __init__(self, strr):\n",
    "        board = []\n",
    "        x = 0\n",
    "        for i in range(0, 9):\n",
    "            board.append([])\n",
    "            for j in range(0, 9):\n",
    "                board[i].append(strr[x])\n",
    "                x+=1\n",
    "        print(board)\n",
    "        self.board = board \n",
    "    \n",
    "    def get_row(self,n):\n",
    "        return self.board[n]\n",
    "    \n",
    "    def get_col(self,n):\n",
    "        res = []\n",
    "        for i in range(0, 9):\n",
    "            res.append(self.board[i][n])\n",
    "        return res\n",
    "    \n",
    "    def get_sqr(self, n,m):\n",
    "#         n, m = arr[0], arr[1]\n",
    "        if n<=2:\n",
    "            x = 0\n",
    "        if n<=5 and n>2:\n",
    "            x = 3\n",
    "        if n<=8 and n>5:\n",
    "            x = 6\n",
    "        \n",
    "        if m<=2:\n",
    "            y = 0\n",
    "        if m<=5 and m>2:\n",
    "            y = 3\n",
    "        if m<=8 and m>5:\n",
    "            y= 6\n",
    "            \n",
    "        res = [] \n",
    "        print(x, y)\n",
    "        for i in range(0, 2):\n",
    "            for j in range(0, 2):\n",
    "                res.append(self.board[i][j])\n",
    "        return res\n",
    "            "
   ]
  },
  {
   "cell_type": "code",
   "execution_count": 19,
   "id": "c5a50425",
   "metadata": {},
   "outputs": [
    {
     "name": "stdout",
     "output_type": "stream",
     "text": [
      "[['4', '1', '7', '9', '5', '0', '0', '3', '0'], ['0', '0', '0', '0', '0', '0', '7', '0', '0'], ['0', '6', '0', '0', '0', '7', '0', '0', '0'], ['0', '5', '0', '0', '0', '9', '1', '0', '6'], ['8', '0', '0', '6', '0', '0', '0', '0', '0'], ['0', '0', '0', '0', '0', '3', '4', '0', '0'], ['9', '0', '0', '0', '0', '5', '0', '0', '0'], ['0', '0', '0', '4', '3', '0', '0', '0', '0'], ['2', '0', '0', '7', '0', '1', '5', '8', '0']]\n"
     ]
    }
   ],
   "source": [
    "game = Sudoku(\"417950030000000700060007000050009106800600000000003400900005000000430000200701580\")"
   ]
  },
  {
   "cell_type": "code",
   "execution_count": 20,
   "id": "d4ec83f5",
   "metadata": {},
   "outputs": [
    {
     "name": "stdout",
     "output_type": "stream",
     "text": [
      "0 6\n",
      "6 3\n"
     ]
    },
    {
     "data": {
      "text/plain": [
       "['4', '1', '0', '0']"
      ]
     },
     "execution_count": 20,
     "metadata": {},
     "output_type": "execute_result"
    }
   ],
   "source": [
    "game.board\n",
    "# [\n",
    "# [4, 1, 7, 9, 5, 0, 0, 3, 0],\n",
    "# [0, 0, 0, 0, 0, 0, 7, 0, 0],\n",
    "# [0, 6, 0, 0, 0, 7, 0, 0, 0],\n",
    "# [0, 5, 0, 0, 0, 9, 1, 0, 6],\n",
    "# [8, 0, 0, 6, 0, 0, 0, 0, 0],\n",
    "# [0, 0, 0, 0, 0, 3, 4, 0, 0],\n",
    "# [9, 0, 0, 0, 0, 5, 0, 0, 0],\n",
    "# [0, 0, 0, 4, 3, 0, 0, 0, 0],\n",
    "# [2, 0, 0, 7, 0, 1, 5, 8, 0]\n",
    "# ]\n",
    "game.get_row(0) \n",
    "# ➞ [4, 1, 7, 9, 5, 0, 0, 3, 0]\n",
    "game.get_col(8) \n",
    "# ➞ [0, 0, 0, 6, 0, 0, 0, 0, 0]\n",
    "# game.get_sqr(1) \n",
    "# ➞ [9, 5, 0, 0, 0, 0, 0, 0, 7]\n",
    "game.get_sqr(1, 8) \n",
    "# ➞ [0, 3, 0, 7, 0, 0, 0, 0, 0]\n",
    "game.get_sqr(8, 3) \n",
    "# ➞ [0, 0, 5, 4, 3, 0, 7, 0, 1]"
   ]
  },
  {
   "cell_type": "code",
   "execution_count": 61,
   "id": "f95a7744",
   "metadata": {},
   "outputs": [],
   "source": [
    "class ListNode:\n",
    "    def __init__(self, val=0, nextt=None):\n",
    "        self.val = val\n",
    "        self.next = nextt\n",
    "#         self.head = None\n",
    "        \n",
    "    def add_data(self, arr):\n",
    "        arr = list(arr)\n",
    "        for a in arr:\n",
    "            old = self.val\n",
    "            self.val = a\n",
    "            self.next = ListNode(old, self.next)\n",
    "#             self.next = old\n",
    "    \n",
    "    def get_data(self):\n",
    "        res = []\n",
    "        a = self.val\n",
    "        temp = self.next\n",
    "        res.append(a)\n",
    "        while temp:\n",
    "            a = temp.val\n",
    "            temp = temp.next\n",
    "            res.append(a)\n",
    "        return res\n",
    "\n",
    "    \n",
    "def add_two_numbers(lt1, lt2):\n",
    "    arr1 = lt1.get_data()[::-1]\n",
    "    arr1 = map(str, arr1)\n",
    "    arr1 = int(\"\".join(arr1))\n",
    "    arr2 = lt2.get_data()[::-1]\n",
    "    arr2 = map(str, arr2)\n",
    "    arr2 = int(\"\".join(arr2))\n",
    "    res = list(str(arr1+arr2))\n",
    "    lt3 = ListNode(res[0])\n",
    "    lt3.add_data(res[1:])\n",
    "    return lt3"
   ]
  },
  {
   "cell_type": "code",
   "execution_count": 62,
   "id": "8eae038b",
   "metadata": {},
   "outputs": [],
   "source": [
    "lt1 = ListNode(2)\n",
    "lt1.add_data([4, 3])\n",
    "lt2 = ListNode(5)\n",
    "lt2.add_data([6, 4])"
   ]
  },
  {
   "cell_type": "code",
   "execution_count": 63,
   "id": "f1d5ced1",
   "metadata": {},
   "outputs": [
    {
     "data": {
      "text/plain": [
       "[4, 6, 5]"
      ]
     },
     "execution_count": 63,
     "metadata": {},
     "output_type": "execute_result"
    }
   ],
   "source": [
    "lt1.get_data()\n",
    "lt2.get_data()"
   ]
  },
  {
   "cell_type": "code",
   "execution_count": 64,
   "id": "0d68ce58",
   "metadata": {},
   "outputs": [
    {
     "data": {
      "text/plain": [
       "['7', '0', '8']"
      ]
     },
     "execution_count": 64,
     "metadata": {},
     "output_type": "execute_result"
    }
   ],
   "source": [
    "add_two_numbers(lt1, lt2).get_data()"
   ]
  },
  {
   "cell_type": "code",
   "execution_count": 111,
   "id": "ca3f2800",
   "metadata": {},
   "outputs": [],
   "source": [
    "class CoffeeShop:\n",
    "    def __init__(self, name, menu):\n",
    "        self.name = name\n",
    "        self.menu = menu\n",
    "        self.orders = []\n",
    "        \n",
    "    def add_order(self, item):\n",
    "        for m in self.menu:\n",
    "            if item == m[\"item\"]:\n",
    "                self.orders.append(item)\n",
    "    \n",
    "    def due_amount(self):\n",
    "        res = 0\n",
    "        for order in self.orders:\n",
    "            for m in self.menu:\n",
    "                if order == m[\"item\"]:\n",
    "                    res+=m[\"price\"]\n",
    "        return res\n",
    "\n",
    "    def list_orders(self):\n",
    "        return self.orders\n",
    "    \n",
    "    def fulfill_order(self):\n",
    "        if self.orders:\n",
    "            return \"The {0} is ready!\".format(self.orders.pop())\n",
    "        else:\n",
    "            return \"All orders have been fulfilled!\"\n",
    "        \n",
    "    def drinks_only(self):\n",
    "        res = []\n",
    "        for m in self.menu:\n",
    "            if m[\"type\"]==\"drink\":\n",
    "                res.append(m[\"item\"])\n",
    "        return res\n",
    "                \n",
    "    def food_only(self):\n",
    "        res = []\n",
    "        for m in self.menu:\n",
    "            if m[\"type\"]==\"food\":\n",
    "                res.append(m[\"item\"])\n",
    "        return res      \n",
    "                \n",
    "    def cheapest_item(self):\n",
    "        minn = self.menu[0][\"price\"]\n",
    "        min_item = self.menu[0][\"item\"]\n",
    "        for m in self.menu:\n",
    "            if minn > m[\"price\"]:\n",
    "                minn = m[\"price\"]\n",
    "                min_item = m[\"item\"]\n",
    "        return min_item\n",
    "    "
   ]
  },
  {
   "cell_type": "code",
   "execution_count": 112,
   "id": "b2cf76c0",
   "metadata": {},
   "outputs": [
    {
     "data": {
      "text/plain": [
       "3.95"
      ]
     },
     "execution_count": 112,
     "metadata": {},
     "output_type": "execute_result"
    }
   ],
   "source": [
    "tcs = CoffeeShop(\"MyShop\", [{\"item\":\"cinnamon roll\",\"type\": \"food\", \"price\":1.75},{\"item\":\"iced coffee\",\"type\": \"drink\", \"price\":2.2}])\n",
    "tcs.add_order(\"hot cocoa\")\n",
    "tcs.add_order(\"cinnamon roll\")\n",
    "tcs.add_order(\"iced coffee\")\n",
    "tcs.list_orders()\n",
    "tcs.due_amount()\n",
    "tcs.fulfill_order()\n",
    "tcs.fulfill_order()\n",
    "tcs.fulfill_order()\n",
    "tcs.due_amount()\n",
    "tcs.cheapest_item()\n",
    "tcs.drinks_only()\n",
    "tcs.food_only()"
   ]
  },
  {
   "cell_type": "code",
   "execution_count": 164,
   "id": "acb76b34",
   "metadata": {},
   "outputs": [],
   "source": [
    "from math import sqrt\n",
    "\n",
    "def loneliest_number(n, m):\n",
    "    record = 1\n",
    "    exist = False\n",
    "    for i in range(n, m):\n",
    "        x = 1\n",
    "        while True:\n",
    "            if i+x<m:\n",
    "                check = prime(i+x) or prime(i-x)\n",
    "                if check:\n",
    "                    exist = True\n",
    "                    if x>record:\n",
    "                        record = x\n",
    "                        if prime(i+x):\n",
    "                            closest = i+x\n",
    "                        else:\n",
    "                            closest = i-x\n",
    "                        number, distance = i, x, \n",
    "                    break;\n",
    "                else:\n",
    "                    x+=1\n",
    "            else:\n",
    "                check = prime(i-x)\n",
    "                print(\"in 2\", x, i, check, i-x)\n",
    "                if check:\n",
    "                    exist = True\n",
    "                    if x>record:\n",
    "                        record = x\n",
    "                        closest = i-x\n",
    "                        number, distance = i, x, \n",
    "                    break;\n",
    "                else:\n",
    "                    x+=1\n",
    "        \n",
    "    if exist:\n",
    "        return {\"number\": number, \"distance\": distance, \"closest\": closest}\n",
    "    else:\n",
    "        return \"No lonely number\"\n",
    "\n",
    "def prime(n):\n",
    "    prime_flag = 0\n",
    "    if(n > 1):\n",
    "        for i in range(2, int(sqrt(n)) + 1):\n",
    "            if (n % i == 0):\n",
    "                prime_flag = 1\n",
    "                return False\n",
    "        return True\n",
    "    else:\n",
    "        return False"
   ]
  },
  {
   "cell_type": "code",
   "execution_count": 168,
   "id": "fa1c7dee",
   "metadata": {},
   "outputs": [
    {
     "name": "stdout",
     "output_type": "stream",
     "text": [
      "in 2 3 1187 False 1184\n",
      "in 2 4 1187 False 1183\n",
      "in 2 5 1187 False 1182\n",
      "in 2 6 1187 True 1181\n",
      "in 2 1 1189 False 1188\n",
      "in 2 2 1189 True 1187\n"
     ]
    },
    {
     "data": {
      "text/plain": [
       "{'number': 211, 'distance': 12, 'closest': 223}"
      ]
     },
     "execution_count": 168,
     "metadata": {},
     "output_type": "execute_result"
    }
   ],
   "source": [
    "loneliest_number(120, 1190)"
   ]
  },
  {
   "cell_type": "code",
   "execution_count": 197,
   "id": "ef1c54fc",
   "metadata": {},
   "outputs": [],
   "source": [
    "class Selfie:\n",
    "    def __init__(self):\n",
    "        self.states = []\n",
    "        self.x = 0\n",
    "\n",
    "    def save_state(self):\n",
    "        self.states.append(self.x)\n",
    "        \n",
    "    def recover_state(self, index):\n",
    "        self.x = self.states[index]\n",
    "        return self"
   ]
  },
  {
   "cell_type": "code",
   "execution_count": 198,
   "id": "fd703352",
   "metadata": {},
   "outputs": [
    {
     "data": {
      "text/plain": [
       "2"
      ]
     },
     "execution_count": 198,
     "metadata": {},
     "output_type": "execute_result"
    }
   ],
   "source": [
    "p = Selfie()\n",
    "p.x = 2\n",
    "p.save_state()\n",
    "p.x = 5\n",
    "p = p.recover_state(0)\n",
    "p.x "
   ]
  },
  {
   "cell_type": "code",
   "execution_count": null,
   "id": "29037124",
   "metadata": {},
   "outputs": [],
   "source": []
  }
 ],
 "metadata": {
  "kernelspec": {
   "display_name": "Python 3 (ipykernel)",
   "language": "python",
   "name": "python3"
  },
  "language_info": {
   "codemirror_mode": {
    "name": "ipython",
    "version": 3
   },
   "file_extension": ".py",
   "mimetype": "text/x-python",
   "name": "python",
   "nbconvert_exporter": "python",
   "pygments_lexer": "ipython3",
   "version": "3.9.12"
  }
 },
 "nbformat": 4,
 "nbformat_minor": 5
}

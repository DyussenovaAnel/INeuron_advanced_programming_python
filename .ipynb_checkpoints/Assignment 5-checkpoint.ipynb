{
 "cells": [
  {
   "cell_type": "markdown",
   "id": "9ebdeb9f",
   "metadata": {},
   "source": [
    "1. Create a function that takes a number n (integer greater than zero) as an\n",
    "argument, and returns 2 if n is odd and 8 if n is even.\n",
    "You can only use the following arithmetic operators: addition of numbers +,\n",
    "subtraction of numbers -, multiplication of number *, division of number /, and\n",
    "exponentiation **.\n",
    "You are not allowed to use any other methods in this challenge (i.e. no if\n",
    "statements, comparison operators, etc).\n",
    "Examples\n",
    "f(1)"
   ]
  },
  {
   "cell_type": "code",
   "execution_count": null,
   "id": "ed0b95ba",
   "metadata": {},
   "outputs": [],
   "source": [
    "def f(n):\n",
    "    "
   ]
  },
  {
   "cell_type": "markdown",
   "id": "f51aadcc",
   "metadata": {},
   "source": [
    "2. Create a function that returns the majority vote in a list. A majority vote is\n",
    "an element that occurs > N/2 times in a list (where N is the length of the list).\n",
    "Examples\n",
    "majority_vote([\"A\", \"A\", \"B\"]) ➞ \"A\""
   ]
  },
  {
   "cell_type": "code",
   "execution_count": 13,
   "id": "5584f706",
   "metadata": {},
   "outputs": [
    {
     "data": {
      "text/plain": [
       "'A'"
      ]
     },
     "execution_count": 13,
     "metadata": {},
     "output_type": "execute_result"
    }
   ],
   "source": [
    "from collections import Counter\n",
    "\n",
    "def majority_vote(arr):\n",
    "    c = Counter(arr)\n",
    "    return list(c.items())[0][0]\n",
    "\n",
    "majority_vote([\"A\", \"A\", \"B\"])"
   ]
  },
  {
   "cell_type": "markdown",
   "id": "1b556f8d",
   "metadata": {},
   "source": [
    "3. Create a function that takes a string txt and censors any word from a given\n",
    "list lst. The text removed must be replaced by the given character char.\n",
    "Examples\n",
    "censor_string(\"Today is a Wednesday, a!\", [\"Today\", \"a\"], \"-\") ➞\"----- is - Wednesday!\""
   ]
  },
  {
   "cell_type": "code",
   "execution_count": 27,
   "id": "4f735c5d",
   "metadata": {},
   "outputs": [
    {
     "data": {
      "text/plain": [
       "'----- is - Wednesday !'"
      ]
     },
     "execution_count": 27,
     "metadata": {},
     "output_type": "execute_result"
    }
   ],
   "source": [
    "import re\n",
    "\n",
    "def censor_string(text, arr, temp):\n",
    "    text_arr = re.findall(r\"[\\w']+|[.,!?;]\", text)\n",
    "    for a in arr:\n",
    "        if a in text_arr:\n",
    "            text_arr = list(map(lambda x: x if x != a else \"\".join([temp for i in range(0, len(a))]), text_arr))\n",
    "#             text = text.replace(a, \"\".join([temp for i in range(0, len(a))]))\n",
    "    return \" \".join(text_arr)\n",
    "        \n",
    "censor_string(\"Today is a Wednesday!\", [\"Today\", \"a\"], \"-\")"
   ]
  },
  {
   "cell_type": "markdown",
   "id": "83439611",
   "metadata": {},
   "source": [
    "4. In mathematics a Polydivisible Number (or magic number) is a number in a\n",
    "given number base with digits abcde... that has the following properties:\n",
    "- Its first digit a is not 0.\n",
    "- The number formed by its first two digits ab is a multiple of 2.\n",
    "- The number formed by its first three digits abc is a multiple of 3.\n",
    "- The number formed by its first four digits abcd is a multiple of 4.\n",
    "Create a function which takes an integer n and returns True if the given\n",
    "number is a Polydivisible Number and False otherwise."
   ]
  },
  {
   "cell_type": "code",
   "execution_count": 37,
   "id": "4a7b2bb8",
   "metadata": {},
   "outputs": [
    {
     "data": {
      "text/plain": [
       "False"
      ]
     },
     "execution_count": 37,
     "metadata": {},
     "output_type": "execute_result"
    }
   ],
   "source": [
    "def is_polydivisible(num):\n",
    "    arr = list(str(num))\n",
    "    for i in range(1, len(arr)):\n",
    "        if int(\"\".join(arr[:i]))%(i)!=0:\n",
    "            return False\n",
    "    return True\n",
    "\n",
    "is_polydivisible(123220)"
   ]
  },
  {
   "cell_type": "markdown",
   "id": "06dfd5bd",
   "metadata": {},
   "source": [
    "5. Create a function that takes a list of numbers and returns the sum of all\n",
    "prime numbers in the list.\n",
    "Examples\n",
    "sum_primes([1, 2, 3, 4, 5, 6, 7, 8, 9, 10])"
   ]
  },
  {
   "cell_type": "code",
   "execution_count": 42,
   "id": "c0d47e51",
   "metadata": {},
   "outputs": [],
   "source": [
    "from math import sqrt\n",
    "def prime(n):\n",
    "    prime_flag = 0\n",
    "\n",
    "    if(n > 1):\n",
    "        for i in range(2, int(sqrt(n)) + 1):\n",
    "            if (n % i == 0):\n",
    "                prime_flag = 1\n",
    "                return False\n",
    "        return True\n",
    "    else:\n",
    "        return False"
   ]
  },
  {
   "cell_type": "code",
   "execution_count": 51,
   "id": "7f079816",
   "metadata": {},
   "outputs": [
    {
     "data": {
      "text/plain": [
       "87"
      ]
     },
     "execution_count": 51,
     "metadata": {},
     "output_type": "execute_result"
    }
   ],
   "source": [
    "def sum_primes(arr):\n",
    "    res = 0\n",
    "    for a in arr:\n",
    "        if prime(a):\n",
    "            res+=a\n",
    "    return res\n",
    "\n",
    "sum_primes([2, 3, 4, 11, 20, 50, 71])"
   ]
  },
  {
   "cell_type": "code",
   "execution_count": null,
   "id": "799ea656",
   "metadata": {},
   "outputs": [],
   "source": []
  }
 ],
 "metadata": {
  "kernelspec": {
   "display_name": "Python 3 (ipykernel)",
   "language": "python",
   "name": "python3"
  },
  "language_info": {
   "codemirror_mode": {
    "name": "ipython",
    "version": 3
   },
   "file_extension": ".py",
   "mimetype": "text/x-python",
   "name": "python",
   "nbconvert_exporter": "python",
   "pygments_lexer": "ipython3",
   "version": "3.9.12"
  }
 },
 "nbformat": 4,
 "nbformat_minor": 5
}

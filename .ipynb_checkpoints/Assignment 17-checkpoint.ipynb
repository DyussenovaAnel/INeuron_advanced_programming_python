{
 "cells": [
  {
   "cell_type": "markdown",
   "id": "aab2195b",
   "metadata": {},
   "source": [
    "1. Create a function that transposes a 2D matrix.\n",
    "Examples\n",
    "transpose_matrix([\n",
    "[1, 1, 1],\n",
    "[2, 2, 2],\n",
    "[3, 3, 3]\n",
    "]) ➞ [\n",
    "[1, 2, 3],\n",
    "[1, 2, 3],\n",
    "[1, 2, 3]\n",
    "]"
   ]
  },
  {
   "cell_type": "code",
   "execution_count": 2,
   "id": "d8d266b0",
   "metadata": {},
   "outputs": [
    {
     "name": "stdout",
     "output_type": "stream",
     "text": [
      "[[1 2 3]\n",
      " [1 2 3]\n",
      " [1 2 3]]\n"
     ]
    }
   ],
   "source": [
    "import numpy as np\n",
    "\n",
    "def transpose_matrix(arr):\n",
    "    arr = np.array(arr)\n",
    "    print(arr.T)\n",
    "    \n",
    "transpose_matrix([\n",
    "[1, 1, 1],\n",
    "[2, 2, 2],\n",
    "[3, 3, 3]\n",
    "])"
   ]
  },
  {
   "cell_type": "markdown",
   "id": "771e8c34",
   "metadata": {},
   "source": [
    "2. Create a function that determines whether a string is a valid hex code.\n",
    "A hex code must begin with a pound key # and is exactly 6 characters in\n",
    "length. Each character must be a digit from 0-9 or an alphabetic character\n",
    "from A-F. All alphabetic characters may be uppercase or lowercase.\n",
    "Examples\n",
    "is_valid_hex_code(&quot;#CD5C5C&quot;) ➞ True"
   ]
  },
  {
   "cell_type": "code",
   "execution_count": 30,
   "id": "4db16e9e",
   "metadata": {},
   "outputs": [
    {
     "data": {
      "text/plain": [
       "False"
      ]
     },
     "execution_count": 30,
     "metadata": {},
     "output_type": "execute_result"
    }
   ],
   "source": [
    "def is_valid_hex_code(txt):\n",
    "    if txt[0] != \"#\" or len(txt)>7:\n",
    "        return False\n",
    "    \n",
    "    for i in range(1, len(txt)):\n",
    "        if txt[i].lower() not in \"abcdef0123456789\":\n",
    "            return False\n",
    "    return True\n",
    "            \n",
    "is_valid_hex_code(\"#CD5C5Z\")\n",
    "# is_valid_hex_code(\"#CD5C58C\")"
   ]
  },
  {
   "cell_type": "markdown",
   "id": "6f2c285e",
   "metadata": {},
   "source": [
    "3. Given a list of math equations (given as strings), return the percentage of\n",
    "correct answers as a string. Round to the nearest whole number.\n",
    "Examples\n",
    "mark_maths([\"2+2=4\", \"3+2=5\", \"10-3=3\", \"5+5=10\"]) ➞ \"75%\""
   ]
  },
  {
   "cell_type": "code",
   "execution_count": 44,
   "id": "7b841f68",
   "metadata": {},
   "outputs": [
    {
     "data": {
      "text/plain": [
       "0.67"
      ]
     },
     "execution_count": 44,
     "metadata": {},
     "output_type": "execute_result"
    }
   ],
   "source": [
    "def mark_maths(arr):\n",
    "    count = 0\n",
    "    for a in arr:\n",
    "        temp = a.split(\"=\")\n",
    "        result = temp[1]\n",
    "        if \"+\" in temp[0]:\n",
    "            nums = temp[0].split(\"+\")\n",
    "            if int(nums[0])+int(nums[1]) == int(result):\n",
    "                count+=1\n",
    "        if \"-\" in temp[0]:\n",
    "            nums = temp[0].split(\"-\")\n",
    "            if int(nums[0])-int(nums[1]) == int(result):\n",
    "                count+=1\n",
    "        if \"/\" in temp[0]:\n",
    "            nums = temp[0].split(\"/\")\n",
    "            if int(nums[0])/int(nums[1]) == int(result):\n",
    "                count+=1\n",
    "        if \"*\" in temp[0]:\n",
    "            nums = temp[0].split(\"*\")\n",
    "            if int(nums[0])*int(nums[1]) == int(result):\n",
    "                count+=1\n",
    "    return round(count/len(arr), 2)\n",
    "\n",
    "# mark_maths([\"2+2=4\", \"3+2=5\", \"10-3=3\", \"5+5=10\"]) \n",
    "# mark_maths([\"1-2=-2\"])\n",
    "mark_maths([\"2+3=5\", \"4+4=9\", \"3-1=2\"])"
   ]
  },
  {
   "cell_type": "markdown",
   "id": "3364aba9",
   "metadata": {},
   "source": [
    "4. There are two players, Alice and Bob, each with a 3-by-3 grid. A referee\n",
    "tells Alice to fill out one particular row in the grid (say the second row) by\n",
    "putting either a 1 or a 0 in each box, such that the sum of the numbers in that\n",
    "row is odd. The referee tells Bob to fill out one column in the grid (say the first\n",
    "column) by putting either a 1 or a 0 in each box, such that the sum of the\n",
    "numbers in that column is even.\n",
    "Alice and Bob win the game if Alice’s numbers give an odd sum, Bob’s give\n",
    "an even sum, and (most important) they’ve each written down the same\n",
    "number in the one square where their row and column intersect.\n",
    "Examples\n",
    "magic_square_game([2, &quot;100&quot;], [1, &quot;101&quot;]) ➞ False"
   ]
  },
  {
   "cell_type": "code",
   "execution_count": 49,
   "id": "e6691a8f",
   "metadata": {},
   "outputs": [
    {
     "data": {
      "text/plain": [
       "True"
      ]
     },
     "execution_count": 49,
     "metadata": {},
     "output_type": "execute_result"
    }
   ],
   "source": [
    "def magic_square_game(arr1, arr2):\n",
    "    if arr1[1][arr1[0]-1]==arr2[1][arr2[0]-1]:\n",
    "        return True\n",
    "    else:\n",
    "        return False\n",
    "    \n",
    "magic_square_game([1, \"100\"], [1, \"101\"]) "
   ]
  },
  {
   "cell_type": "markdown",
   "id": "fa2cd5fb",
   "metadata": {},
   "source": [
    "5. From point A, an object is moving towards point B at constant velocity va\n",
    "(in km/hr). From point B, another object is moving towards point A at constant\n",
    "velocity vb (in km/hr). Knowing this and the distance between point A and B\n",
    "(in km), write a function that returns how much time passes until both objects\n",
    "meet.\n",
    "Format the output like this:\n",
    "\n",
    "\"2h 23min 34s\"\n",
    "Examples\n",
    "lets_meet(100, 10, 30) ➞ \"2h 30min 0s\""
   ]
  },
  {
   "cell_type": "code",
   "execution_count": 85,
   "id": "49bebe10",
   "metadata": {},
   "outputs": [
    {
     "data": {
      "text/plain": [
       "'1.0h 52.0min 0.0s'"
      ]
     },
     "execution_count": 85,
     "metadata": {},
     "output_type": "execute_result"
    }
   ],
   "source": [
    "def lets_meet(s, va, vb):\n",
    "    t = s/(va+vb)\n",
    "    h = t//1\n",
    "    m = ((t-(t//1))*60)//1\n",
    "    s = (((t-(t//1))*60 - m)*60)//1\n",
    "    return \"{0}h {1}min {2}s\".format(h, m, s)\n",
    "\n",
    "\n",
    "lets_meet(280, 70, 80)"
   ]
  },
  {
   "cell_type": "code",
   "execution_count": null,
   "id": "90e2ba0c",
   "metadata": {},
   "outputs": [],
   "source": []
  }
 ],
 "metadata": {
  "kernelspec": {
   "display_name": "Python 3 (ipykernel)",
   "language": "python",
   "name": "python3"
  },
  "language_info": {
   "codemirror_mode": {
    "name": "ipython",
    "version": 3
   },
   "file_extension": ".py",
   "mimetype": "text/x-python",
   "name": "python",
   "nbconvert_exporter": "python",
   "pygments_lexer": "ipython3",
   "version": "3.9.12"
  }
 },
 "nbformat": 4,
 "nbformat_minor": 5
}

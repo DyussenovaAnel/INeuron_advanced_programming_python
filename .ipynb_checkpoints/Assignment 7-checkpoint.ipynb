{
 "cells": [
  {
   "cell_type": "code",
   "execution_count": null,
   "id": "68f59d80",
   "metadata": {},
   "outputs": [],
   "source": [
    "1. Write a function that counts how many concentric layers a rug."
   ]
  },
  {
   "cell_type": "code",
   "execution_count": 16,
   "id": "5212dbe5",
   "metadata": {},
   "outputs": [
    {
     "data": {
      "text/plain": [
       "5"
      ]
     },
     "execution_count": 16,
     "metadata": {},
     "output_type": "execute_result"
    }
   ],
   "source": [
    "def count_layers(arr):\n",
    "    mid = len(arr)//2\n",
    "    arr_mid = arr[mid]\n",
    "    prev = arr_mid[0]\n",
    "    res = 0\n",
    "    for i in range(1, len(list(arr_mid))):\n",
    "        if arr_mid[i]!=prev:\n",
    "            res+=1\n",
    "            prev= arr_mid[i]\n",
    "    return res//2+1\n",
    "\n",
    "count_layers([\n",
    "\"AAAAAAAAAAA\",\n",
    "\"AABBBBBBBAA\",\n",
    "\"AABCCCCCBAA\",\n",
    "\"AABCAAACBAA\",\n",
    "\"AABCADACBAA\",\n",
    "\"AABCAAACBAA\",\n",
    "\"AABCCCCCBAA\",\n",
    "\"AABBBBBBBAA\",\n",
    "\"AAAAAAAAAAA\"\n",
    "])\n"
   ]
  },
  {
   "cell_type": "markdown",
   "id": "70f83a4f",
   "metadata": {},
   "source": [
    "2. There are many different styles of music and many albums exhibit multiple\n",
    "styles. Create a function that takes a list of musical styles from albums and\n",
    "returns how many styles are unique.\n",
    "Examples\n",
    "unique_styles([\n",
    "\"Dub,Dancehall\",\n",
    "\"Industrial,Heavy Metal\",\n",
    "\"Techno,Dubstep\",\n",
    "\"Synth-pop,Euro-Disco\",\n",
    "\"Industrial,Techno,Minimal\"\n",
    "]) \n",
    "➞ 9"
   ]
  },
  {
   "cell_type": "code",
   "execution_count": 21,
   "id": "434a2b12",
   "metadata": {},
   "outputs": [
    {
     "data": {
      "text/plain": [
       "9"
      ]
     },
     "execution_count": 21,
     "metadata": {},
     "output_type": "execute_result"
    }
   ],
   "source": [
    "def unique_styles(arr):\n",
    "    res = set()\n",
    "    for a in arr:\n",
    "        genres = set(a.split(\",\"))\n",
    "        res = res.union(genres)\n",
    "        \n",
    "    return len(res)\n",
    "\n",
    "unique_styles([\n",
    "\"Dub,Dancehall\",\n",
    "\"Industrial,Heavy Metal\",\n",
    "\"Techno,Dubstep\",\n",
    "\"Synth-pop,Euro-Disco\",\n",
    "\"Industrial,Techno,Minimal\"\n",
    "]) "
   ]
  },
  {
   "cell_type": "markdown",
   "id": "78226cbc",
   "metadata": {},
   "source": [
    "3. Create a function that finds a target number in a list of prime numbers.\n",
    "Implement a binary search algorithm in your function. The target number will\n",
    "be from 2 through 97. If the target is prime then return \"yes\" else return \"no\".\n",
    "Examples\n",
    "primes = [2, 3, 5, 7, 11, 13, 17, 19, 23, 29, 31, 37, 41, 43, 47, 53, 59, 61, 67,\n",
    "71, 73, 79, 83, 89, 97]"
   ]
  },
  {
   "cell_type": "code",
   "execution_count": 18,
   "id": "d989893c",
   "metadata": {},
   "outputs": [
    {
     "data": {
      "text/plain": [
       "'Yes'"
      ]
     },
     "execution_count": 18,
     "metadata": {},
     "output_type": "execute_result"
    }
   ],
   "source": [
    "def is_prime(arr, n):\n",
    "    mid = len(arr)//2\n",
    "    \n",
    "    if n==arr[mid]:\n",
    "        return \"Yes\"\n",
    "    if len(arr)==1 and arr[0]!=n:\n",
    "        return \"No\"\n",
    "    \n",
    "    if n<arr[mid]:\n",
    "        return is_prime(arr[:mid], n)\n",
    "    if n>arr[mid]:\n",
    "        return is_prime(arr[mid:], n)\n",
    "    \n",
    "primes = [2, 3, 5, 7, 11, 13, 17, 19, 23, 29, 31, 37, 41, 43, 47, 53, 59, 61, 67, 71, 73, 79, 83, 89, 97]\n",
    "is_prime(primes, 3)"
   ]
  },
  {
   "cell_type": "markdown",
   "id": "c1b774ed",
   "metadata": {},
   "source": [
    "4. Create a function that takes in n, a, b and returns the number of positive\n",
    "values raised to the nth power that lie in the range [a, b], inclusive.\n",
    "Examples\n",
    "power_ranger(2, 49, 65) ➞ 2\n",
    "#2 squares (n^2) lie between 49 and 65, 49 (7^2) and 64 (8^2)"
   ]
  },
  {
   "cell_type": "code",
   "execution_count": 25,
   "id": "6b14ab1a",
   "metadata": {},
   "outputs": [
    {
     "data": {
      "text/plain": [
       "2"
      ]
     },
     "execution_count": 25,
     "metadata": {},
     "output_type": "execute_result"
    }
   ],
   "source": [
    "from math import sqrt\n",
    "def power_ranger(n, a, b):\n",
    "    res = 0\n",
    "    for i in range(a, b):\n",
    "        if sqrt(i).is_integer():\n",
    "            res +=1\n",
    "    return res\n",
    "        \n",
    "power_ranger(2, 49, 65)"
   ]
  },
  {
   "cell_type": "markdown",
   "id": "c6017f42",
   "metadata": {},
   "source": [
    "5. Given a number, return the difference between the maximum and minimum\n",
    "numbers that can be formed when the digits are rearranged.\n",
    "Examples\n",
    "rearranged_difference(972882) ➞ 760833\n",
    "#988722 - 227889 = 760833"
   ]
  },
  {
   "cell_type": "code",
   "execution_count": 29,
   "id": "8a5a5140",
   "metadata": {},
   "outputs": [
    {
     "data": {
      "text/plain": [
       "90981"
      ]
     },
     "execution_count": 29,
     "metadata": {},
     "output_type": "execute_result"
    }
   ],
   "source": [
    "def rearranged_difference(num):\n",
    "    arr_num = list(str(num))\n",
    "    arr_num.sort()\n",
    "    minn = int(\"\".join(arr_num))\n",
    "    maxx = int(\"\".join(arr_num[::-1]))\n",
    "    return maxx-minn\n",
    "\n",
    "rearranged_difference(90010)"
   ]
  },
  {
   "cell_type": "code",
   "execution_count": null,
   "id": "14c2b28a",
   "metadata": {},
   "outputs": [],
   "source": []
  }
 ],
 "metadata": {
  "kernelspec": {
   "display_name": "Python 3 (ipykernel)",
   "language": "python",
   "name": "python3"
  },
  "language_info": {
   "codemirror_mode": {
    "name": "ipython",
    "version": 3
   },
   "file_extension": ".py",
   "mimetype": "text/x-python",
   "name": "python",
   "nbconvert_exporter": "python",
   "pygments_lexer": "ipython3",
   "version": "3.9.12"
  }
 },
 "nbformat": 4,
 "nbformat_minor": 5
}

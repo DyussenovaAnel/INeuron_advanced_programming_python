{
 "cells": [
  {
   "cell_type": "markdown",
   "id": "7e3c78bd",
   "metadata": {},
   "source": [
    "1. Given a list of numbers, create a function that removes 25% from every\n",
    "number in the list except the smallest number, and adds the total amount\n",
    "removed to the smallest number."
   ]
  },
  {
   "cell_type": "code",
   "execution_count": 5,
   "id": "07452ef6",
   "metadata": {},
   "outputs": [
    {
     "data": {
      "text/plain": [
       "[12.0, 7.5, 14.5]"
      ]
     },
     "execution_count": 5,
     "metadata": {},
     "output_type": "execute_result"
    }
   ],
   "source": [
    "def show_the_love(arr):\n",
    "    minn = min(arr)\n",
    "    res = []\n",
    "    temp = 0\n",
    "    for a in arr:\n",
    "        if a!=minn:\n",
    "            a_a = a*0.75\n",
    "            temp += a*0.25\n",
    "            res.append(a_a)\n",
    "        else:\n",
    "            res.append(a)\n",
    "    res[res.index(minn)] = minn+temp\n",
    "    return res\n",
    "\n",
    "show_the_love([16, 10, 8])"
   ]
  },
  {
   "cell_type": "markdown",
   "id": "fd356a85",
   "metadata": {},
   "source": [
    "2. Create a function that takes in two words as input and returns a list of three\n",
    "elements, in the following order:\n",
    "1.Shared letters between two words.\n",
    "2.Letters unique to word 1.\n",
    "3.Letters unique to word 2.\n",
    "Each element should have unique letters, and have each letter be\n",
    "alphabetically sorted."
   ]
  },
  {
   "cell_type": "code",
   "execution_count": 12,
   "id": "59c6ef18",
   "metadata": {},
   "outputs": [
    {
     "data": {
      "text/plain": [
       "['enp', 'ahis', 'lov']"
      ]
     },
     "execution_count": 12,
     "metadata": {},
     "output_type": "execute_result"
    }
   ],
   "source": [
    "def letters(w1, w2):\n",
    "    w1_arr = list(set(w1))\n",
    "    w2_arr = list(set(w2))\n",
    "    \n",
    "    res1 = []\n",
    "    res2 = []\n",
    "    res3 = []\n",
    "    for w1 in w1_arr:\n",
    "        if w1 in w2_arr:\n",
    "            res1.append(w1)\n",
    "            w2_arr.remove(w1)\n",
    "        else:\n",
    "            res2.append(w1)\n",
    "    res1.sort()\n",
    "    res2.sort()\n",
    "    w2_arr.sort()\n",
    "    return [\"\".join(res1), \"\".join(res2), \"\".join(w2_arr)]\n",
    "\n",
    "letters(\"happiness\", \"envelope\")"
   ]
  },
  {
   "cell_type": "markdown",
   "id": "26f45835",
   "metadata": {},
   "source": [
    "3. Write a function that pairs the first number in an array with the last, the\n",
    "second number with the second to last, etc.\n",
    "Examples\n",
    "pairs([1, 2, 3, 4, 5, 6, 7]) ➞ [[1, 7], [2, 6], [3, 5], [4, 4]]"
   ]
  },
  {
   "cell_type": "code",
   "execution_count": 24,
   "id": "aafe1627",
   "metadata": {},
   "outputs": [
    {
     "data": {
      "text/plain": [
       "[[1, 6], [2, 5], [3, 4]]"
      ]
     },
     "execution_count": 24,
     "metadata": {},
     "output_type": "execute_result"
    }
   ],
   "source": [
    "def pairs(arr):\n",
    "    res = []\n",
    "    if len(arr)%2==0:\n",
    "        l = len(arr)//2\n",
    "    else:\n",
    "        l = len(arr)//2 + 1\n",
    "    for i in range(0, l):\n",
    "        res.append([arr[i], arr[len(arr)-i-1]])\n",
    "    return res\n",
    "\n",
    "pairs([1, 2, 3, 4, 5, 6])"
   ]
  },
  {
   "cell_type": "markdown",
   "id": "1edfd0c8",
   "metadata": {},
   "source": [
    "4. Write a function that adds two numbers. The catch, however, is that the\n",
    "numbers will be strings.\n",
    "Examples\n",
    "add_str_nums(\"4\", \"5\") ➞ \"9\""
   ]
  },
  {
   "cell_type": "code",
   "execution_count": 27,
   "id": "689ddd83",
   "metadata": {},
   "outputs": [
    {
     "data": {
      "text/plain": [
       "'1874682736267235927391936562808774986'"
      ]
     },
     "execution_count": 27,
     "metadata": {},
     "output_type": "execute_result"
    }
   ],
   "source": [
    "def add_str_nums(w1, w2):\n",
    "    try:\n",
    "        res = int(w1) +int(w2)\n",
    "        return str(res)\n",
    "    except:\n",
    "        return \"-1\"\n",
    "\n",
    "add_str_nums(\"1874682736267235927359283579235789257\",\"32652983572985729\")"
   ]
  },
  {
   "cell_type": "markdown",
   "id": "729c9309",
   "metadata": {},
   "source": [
    "5. lPaeesh le pemu mnxit ehess rtnisg! Oh, sorry, that was supposed to say:\n",
    "Please help me unmix these strings!\n",
    "Somehow my strings have all become mixed up; every pair of characters has\n",
    "been swapped. Help me undo this so I can understand my strings again.\n",
    "Examples\n",
    "unmix(\"123456\") ➞ \"214365\""
   ]
  },
  {
   "cell_type": "code",
   "execution_count": 39,
   "id": "54c3ee54",
   "metadata": {},
   "outputs": [
    {
     "data": {
      "text/plain": [
       "'This is a mixed up string.'"
      ]
     },
     "execution_count": 39,
     "metadata": {},
     "output_type": "execute_result"
    }
   ],
   "source": [
    "def unmix(text):\n",
    "    arr = list(text)\n",
    "    if len(arr)%2==0:\n",
    "        l = len(arr)\n",
    "    else:\n",
    "        l = len(arr)-1\n",
    "    for i in range(0, l, 2):\n",
    "        temp = arr[i]\n",
    "        arr[i]= arr[i+1]\n",
    "        arr[i+1]= temp\n",
    "    return \"\".join(arr)\n",
    "\n",
    "unmix(\"hTsii  s aimex dpus rtni.g\")\n",
    "# unmix(\"badce\")"
   ]
  },
  {
   "cell_type": "code",
   "execution_count": null,
   "id": "4e63f282",
   "metadata": {},
   "outputs": [],
   "source": []
  }
 ],
 "metadata": {
  "kernelspec": {
   "display_name": "Python 3 (ipykernel)",
   "language": "python",
   "name": "python3"
  },
  "language_info": {
   "codemirror_mode": {
    "name": "ipython",
    "version": 3
   },
   "file_extension": ".py",
   "mimetype": "text/x-python",
   "name": "python",
   "nbconvert_exporter": "python",
   "pygments_lexer": "ipython3",
   "version": "3.9.12"
  }
 },
 "nbformat": 4,
 "nbformat_minor": 5
}

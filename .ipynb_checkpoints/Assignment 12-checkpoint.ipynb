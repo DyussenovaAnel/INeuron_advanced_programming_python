{
 "cells": [
  {
   "cell_type": "markdown",
   "id": "bcdf684e",
   "metadata": {},
   "source": [
    "1. For this challenge, forget how to add two numbers together. The best\n",
    "explanation on what to do for this function is this meme:\n",
    "meme_sum(26, 39)"
   ]
  },
  {
   "cell_type": "code",
   "execution_count": 17,
   "id": "f10428c3",
   "metadata": {},
   "outputs": [
    {
     "data": {
      "text/plain": [
       "'1103'"
      ]
     },
     "execution_count": 17,
     "metadata": {},
     "output_type": "execute_result"
    }
   ],
   "source": [
    "def meme_sum(a, b):\n",
    "    a_arr = list(str(a))\n",
    "    b_arr = list(str(b))\n",
    "    if len(a_arr) <= len(b_arr):\n",
    "        longer_arr = b_arr\n",
    "        smaller_arr = a_arr\n",
    "    else:\n",
    "        longer_arr = a_arr\n",
    "        smaller_arr = b_arr  \n",
    "    for i in range(0, len(longer_arr)-len(smaller_arr)):\n",
    "        smaller_arr.insert(0, 0)\n",
    "            \n",
    "            \n",
    "    res = \"\"\n",
    "    for i in range(0, len(longer_arr)):\n",
    "        if i <len(smaller_arr):\n",
    "            res = res + str(int(longer_arr[i])+int(smaller_arr[i]))\n",
    "        else:\n",
    "            res = res + str(int(longer_arr[i]))\n",
    "    return res\n",
    "\n",
    "meme_sum(122, 81)"
   ]
  },
  {
   "cell_type": "markdown",
   "id": "d5e9387e",
   "metadata": {},
   "source": [
    "2. Given an integer, create a function that returns the next prime. If the\n",
    "number is prime, return the number itself.\n",
    "Examples\n",
    "\n",
    "next_prime(12) ➞ 13"
   ]
  },
  {
   "cell_type": "code",
   "execution_count": 23,
   "id": "dcb86a63",
   "metadata": {},
   "outputs": [
    {
     "data": {
      "text/plain": [
       "11"
      ]
     },
     "execution_count": 23,
     "metadata": {},
     "output_type": "execute_result"
    }
   ],
   "source": [
    "from math import sqrt\n",
    "def prime(n):\n",
    "    prime_flag = 0\n",
    "\n",
    "    if(n > 1):\n",
    "        for i in range(2, int(sqrt(n)) + 1):\n",
    "            if (n % i == 0):\n",
    "                prime_flag = 1\n",
    "                return False\n",
    "        return True\n",
    "    else:\n",
    "        return False\n",
    "    \n",
    "def next_prime(n):\n",
    "    while True:\n",
    "        if prime(n):\n",
    "            return n\n",
    "        n+=1\n",
    "        \n",
    "next_prime(11)       "
   ]
  },
  {
   "cell_type": "markdown",
   "id": "19344492",
   "metadata": {},
   "source": [
    "3. If a person traveled up a hill for 18mins at 20mph and then traveled back\n",
    "down the same path at 60mph then their average speed traveled was 30mph.\n",
    "Write a function that returns the average speed traveled given an uphill time,\n",
    "uphill rate and a downhill rate. Uphill time is given in minutes. Return the rate\n",
    "as an integer (mph). No rounding is necessary.\n",
    "Examples\n",
    "ave_spd(18, 20, 60) ➞ 30"
   ]
  },
  {
   "cell_type": "code",
   "execution_count": 25,
   "id": "b7408e04",
   "metadata": {},
   "outputs": [
    {
     "data": {
      "text/plain": [
       "15.0"
      ]
     },
     "execution_count": 25,
     "metadata": {},
     "output_type": "execute_result"
    }
   ],
   "source": [
    "def ave_spd(ft, fv, sv):\n",
    "    st = (ft*fv)/sv\n",
    "    res = (ft/(st + ft))*fv + (st/(st + ft))*sv\n",
    "    return res\n",
    "\n",
    "ave_spd(30, 10, 30)"
   ]
  },
  {
   "cell_type": "markdown",
   "id": "0c17bf02",
   "metadata": {},
   "source": [
    "4. The Kempner Function, applied to a composite number, permits to find the\n",
    "smallest integer greater than zero whose factorial is exactly divided by the\n",
    "number.\n",
    "kempner(6) ➞ 3\n",
    "1! = 1 % 6 > 0\n",
    "2! = 2 % 6 > 0\n",
    "3! = 6 % 6 === 0"
   ]
  },
  {
   "cell_type": "code",
   "execution_count": 31,
   "id": "c48956ef",
   "metadata": {},
   "outputs": [
    {
     "data": {
      "text/plain": [
       "5"
      ]
     },
     "execution_count": 31,
     "metadata": {},
     "output_type": "execute_result"
    }
   ],
   "source": [
    "def kempner(n):\n",
    "    i = 0\n",
    "    while i <= n:\n",
    "        if fact(i)%n==0:\n",
    "            return i\n",
    "        i+=1\n",
    "    return False\n",
    "    \n",
    "def fact(n):\n",
    "    if n<1:\n",
    "        return 1  \n",
    "    return n*fact(n-1)\n",
    "\n",
    "kempner(10)"
   ]
  },
  {
   "cell_type": "markdown",
   "id": "6b9f4978",
   "metadata": {},
   "source": [
    "5. You work in a factory, and your job is to take items from a conveyor belt\n",
    "and pack them into boxes. Each box can hold a maximum of 10 kgs. Given a\n",
    "list containing the weight (in kg) of each item, how many boxes would you\n",
    "need to pack all of the items?\n",
    "Example\n",
    "boxes([2, 1, 2, 5, 4, 3, 6, 1, 1, 9, 3, 2]) ➞ 5"
   ]
  },
  {
   "cell_type": "code",
   "execution_count": 34,
   "id": "1b01381b",
   "metadata": {},
   "outputs": [
    {
     "data": {
      "text/plain": [
       "5"
      ]
     },
     "execution_count": 34,
     "metadata": {},
     "output_type": "execute_result"
    }
   ],
   "source": [
    "def boxes(arr):\n",
    "    res = 0\n",
    "    temp = 0\n",
    "    for a in arr:\n",
    "        if temp + a < 10:\n",
    "            temp+=a\n",
    "        else:\n",
    "            res+=1\n",
    "            temp = a\n",
    "    return res\n",
    "            \n",
    "boxes([2, 1, 2, 5, 4, 3, 6, 1, 1, 9, 3, 2])"
   ]
  },
  {
   "cell_type": "code",
   "execution_count": null,
   "id": "57f8a46b",
   "metadata": {},
   "outputs": [],
   "source": []
  }
 ],
 "metadata": {
  "kernelspec": {
   "display_name": "Python 3 (ipykernel)",
   "language": "python",
   "name": "python3"
  },
  "language_info": {
   "codemirror_mode": {
    "name": "ipython",
    "version": 3
   },
   "file_extension": ".py",
   "mimetype": "text/x-python",
   "name": "python",
   "nbconvert_exporter": "python",
   "pygments_lexer": "ipython3",
   "version": "3.9.12"
  }
 },
 "nbformat": 4,
 "nbformat_minor": 5
}
